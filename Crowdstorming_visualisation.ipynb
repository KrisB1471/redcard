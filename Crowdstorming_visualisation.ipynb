{
 "metadata": {
  "name": "",
  "signature": "sha256:2e3c54bda4393a2e0068ce60e24219ee3dfb03a177221c833aed46968aaaaa93"
 },
 "nbformat": 3,
 "nbformat_minor": 0,
 "worksheets": [
  {
   "cells": [
    {
     "cell_type": "markdown",
     "metadata": {},
     "source": [
      "Crowdsourcing data analysis: Do soccer referees give more red cards to dark skin toned players?\n",
      "=====\n",
      "\n",
      "## Crowdstorming analytics, see: [`https://osf.io/gvm2z/`](https://osf.io/gvm2z/)\n",
      "\n",
      "Initial data visualisation from Team 23: ([Tom Stafford](http://www.tomstafford.staff.shef.ac.uk/), Mat Evans, Colin Bannard & Tim Heaton)\n",
      "\n",
      "Here we present the code, results and commentary of our initial exploration of the dataset. Our final analysis (lead: Tom Stafford) was conducted in R, using the packages lme4 (lead: Tim Heaton) and MCMCglmm (lead: Colin Bannard). All code for this is available on the [OSF](https://osf.io/akqt4/). This analysis was dependent on the exploration presented below (lead: [Mat Evans](http://mathewzilla.github.io/)).\n",
      "\n",
      "Enjoy our final team report [here](https://osf.io/u5wpe/)"
     ]
    },
    {
     "cell_type": "markdown",
     "metadata": {},
     "source": [
      "#### The figures below were generated using matplotlib, but made pretty through the use of [seaborn](http://web.stanford.edu/~mwaskom/software/seaborn/) and [mpld3](http://mpld3.github.io/) "
     ]
    },
    {
     "cell_type": "markdown",
     "metadata": {},
     "source": [
      "# 1 Loading the data and analysis libraries"
     ]
    },
    {
     "cell_type": "markdown",
     "metadata": {},
     "source": [
      "To get started, let's import some libraries"
     ]
    },
    {
     "cell_type": "code",
     "collapsed": false,
     "input": [
      "# IMPORTING LIBRARIES\n",
      "\n",
      "print \"importing libraries\"\n",
      "import pandas as pd                                     # for dealing with csv import\n",
      "import numpy as np                                      # arrays and other matlab like manipulation\n",
      "import os                                               # for joining paths and filenames sensibly\n",
      "import matplotlib.pyplot as plt                         # Matplotlib's pyplot: MATLAB-like syntax\n",
      "import scipy.stats.mstats as ssm                        # for bootstrap\n",
      "from scipy.stats import gaussian_kde as kde\n",
      "import random\n",
      "\n",
      "%matplotlib inline\n",
      "import seaborn as sns                                   # For pretty plots\n",
      "\n",
      "# from mpld3 import display_d3\n",
      "# mpld3.enable_notebook()                                 # Interactive plots on as default\n",
      "# mpld3.disable_notebook()"
     ],
     "language": "python",
     "metadata": {},
     "outputs": [
      {
       "output_type": "stream",
       "stream": "stdout",
       "text": [
        "importing libraries\n"
       ]
      }
     ],
     "prompt_number": 1
    },
    {
     "cell_type": "markdown",
     "metadata": {},
     "source": [
      "Now we need some data."
     ]
    },
    {
     "cell_type": "code",
     "collapsed": false,
     "input": [
      "# Import original data, then do a bit of data-munging to get it in displayable form.\n",
      "print \"loading data from file\"\n",
      "filename=os.path.join('data','CrowdstormingDataJuly1st.csv') \n",
      "df = pd.read_csv(filename)\n",
      "\n"
     ],
     "language": "python",
     "metadata": {},
     "outputs": [
      {
       "output_type": "stream",
       "stream": "stdout",
       "text": [
        "loading data from file\n"
       ]
      }
     ],
     "prompt_number": 2
    },
    {
     "cell_type": "markdown",
     "metadata": {},
     "source": [
      "By default the data is in a rather counter-intuitive format: referee-player dyads. What is a dyad..?"
     ]
    },
    {
     "cell_type": "code",
     "collapsed": false,
     "input": [
      "from IPython.display import HTML\n",
      "HTML('<iframe src=http://en.wikipedia.org/wiki/Dyad_(sociology) width=1000 height=350></iframe>')"
     ],
     "language": "python",
     "metadata": {},
     "outputs": [
      {
       "html": [
        "<iframe src=http://en.wikipedia.org/wiki/Dyad_(sociology) width=1000 height=350></iframe>"
       ],
       "metadata": {},
       "output_type": "pyout",
       "prompt_number": 3,
       "text": [
        "<IPython.core.display.HTML at 0x11223b6d0>"
       ]
      }
     ],
     "prompt_number": 3
    },
    {
     "cell_type": "markdown",
     "metadata": {},
     "source": [
      "A referee-player dyad describes the interactions between a particular ref and one player. This means that each row in the dataset is of a unique player-ref combination, listing all of the games by a given player with a particular referee at any point in his career. Let's look at the first few rows of the dataset as an example:"
     ]
    },
    {
     "cell_type": "code",
     "collapsed": false,
     "input": [
      "# Display the first 10 rows of the dataset. Only 13 columns for space reasons\n",
      "df.ix[:10,:13]"
     ],
     "language": "python",
     "metadata": {},
     "outputs": [
      {
       "html": [
        "<div style=\"max-height:1000px;max-width:1500px;overflow:auto;\">\n",
        "<table border=\"1\" class=\"dataframe\">\n",
        "  <thead>\n",
        "    <tr style=\"text-align: right;\">\n",
        "      <th></th>\n",
        "      <th>playerShort</th>\n",
        "      <th>player</th>\n",
        "      <th>club</th>\n",
        "      <th>leagueCountry</th>\n",
        "      <th>birthday</th>\n",
        "      <th>height</th>\n",
        "      <th>weight</th>\n",
        "      <th>position</th>\n",
        "      <th>games</th>\n",
        "      <th>victories</th>\n",
        "      <th>ties</th>\n",
        "      <th>defeats</th>\n",
        "      <th>goals</th>\n",
        "    </tr>\n",
        "  </thead>\n",
        "  <tbody>\n",
        "    <tr>\n",
        "      <th>0 </th>\n",
        "      <td>      lucas-wilchez</td>\n",
        "      <td>      Lucas Wilchez</td>\n",
        "      <td>     Real Zaragoza</td>\n",
        "      <td>   Spain</td>\n",
        "      <td> 31.08.1983</td>\n",
        "      <td> 177</td>\n",
        "      <td> 72</td>\n",
        "      <td> Attacking Midfielder</td>\n",
        "      <td> 1</td>\n",
        "      <td> 0</td>\n",
        "      <td> 0</td>\n",
        "      <td> 1</td>\n",
        "      <td> 0</td>\n",
        "    </tr>\n",
        "    <tr>\n",
        "      <th>1 </th>\n",
        "      <td>         john-utaka</td>\n",
        "      <td>         John Utaka</td>\n",
        "      <td>   Montpellier HSC</td>\n",
        "      <td>  France</td>\n",
        "      <td> 08.01.1982</td>\n",
        "      <td> 179</td>\n",
        "      <td> 82</td>\n",
        "      <td>         Right Winger</td>\n",
        "      <td> 1</td>\n",
        "      <td> 0</td>\n",
        "      <td> 0</td>\n",
        "      <td> 1</td>\n",
        "      <td> 0</td>\n",
        "    </tr>\n",
        "    <tr>\n",
        "      <th>2 </th>\n",
        "      <td>        abdon-prats</td>\n",
        "      <td>        Abd\u00f3n Prats</td>\n",
        "      <td>      RCD Mallorca</td>\n",
        "      <td>   Spain</td>\n",
        "      <td> 17.12.1992</td>\n",
        "      <td> 181</td>\n",
        "      <td> 79</td>\n",
        "      <td>                  NaN</td>\n",
        "      <td> 1</td>\n",
        "      <td> 0</td>\n",
        "      <td> 1</td>\n",
        "      <td> 0</td>\n",
        "      <td> 0</td>\n",
        "    </tr>\n",
        "    <tr>\n",
        "      <th>3 </th>\n",
        "      <td>         pablo-mari</td>\n",
        "      <td>         Pablo Mar\u00ed</td>\n",
        "      <td>      RCD Mallorca</td>\n",
        "      <td>   Spain</td>\n",
        "      <td> 31.08.1993</td>\n",
        "      <td> 191</td>\n",
        "      <td> 87</td>\n",
        "      <td>          Center Back</td>\n",
        "      <td> 1</td>\n",
        "      <td> 1</td>\n",
        "      <td> 0</td>\n",
        "      <td> 0</td>\n",
        "      <td> 0</td>\n",
        "    </tr>\n",
        "    <tr>\n",
        "      <th>4 </th>\n",
        "      <td>         ruben-pena</td>\n",
        "      <td>         Rub\u00e9n Pe\u00f1a</td>\n",
        "      <td>   Real Valladolid</td>\n",
        "      <td>   Spain</td>\n",
        "      <td> 18.07.1991</td>\n",
        "      <td> 172</td>\n",
        "      <td> 70</td>\n",
        "      <td>     Right Midfielder</td>\n",
        "      <td> 1</td>\n",
        "      <td> 1</td>\n",
        "      <td> 0</td>\n",
        "      <td> 0</td>\n",
        "      <td> 0</td>\n",
        "    </tr>\n",
        "    <tr>\n",
        "      <th>5 </th>\n",
        "      <td>       aaron-hughes</td>\n",
        "      <td>       Aaron Hughes</td>\n",
        "      <td>         Fulham FC</td>\n",
        "      <td> England</td>\n",
        "      <td> 08.11.1979</td>\n",
        "      <td> 182</td>\n",
        "      <td> 71</td>\n",
        "      <td>          Center Back</td>\n",
        "      <td> 1</td>\n",
        "      <td> 0</td>\n",
        "      <td> 0</td>\n",
        "      <td> 1</td>\n",
        "      <td> 0</td>\n",
        "    </tr>\n",
        "    <tr>\n",
        "      <th>6 </th>\n",
        "      <td> aleksandar-kolarov</td>\n",
        "      <td> Aleksandar Kolarov</td>\n",
        "      <td>   Manchester City</td>\n",
        "      <td> England</td>\n",
        "      <td> 10.11.1985</td>\n",
        "      <td> 187</td>\n",
        "      <td> 80</td>\n",
        "      <td>        Left Fullback</td>\n",
        "      <td> 1</td>\n",
        "      <td> 1</td>\n",
        "      <td> 0</td>\n",
        "      <td> 0</td>\n",
        "      <td> 0</td>\n",
        "    </tr>\n",
        "    <tr>\n",
        "      <th>7 </th>\n",
        "      <td>   alexander-tettey</td>\n",
        "      <td>   Alexander Tettey</td>\n",
        "      <td>      Norwich City</td>\n",
        "      <td> England</td>\n",
        "      <td> 04.04.1986</td>\n",
        "      <td> 180</td>\n",
        "      <td> 68</td>\n",
        "      <td> Defensive Midfielder</td>\n",
        "      <td> 1</td>\n",
        "      <td> 0</td>\n",
        "      <td> 0</td>\n",
        "      <td> 1</td>\n",
        "      <td> 0</td>\n",
        "    </tr>\n",
        "    <tr>\n",
        "      <th>8 </th>\n",
        "      <td>  anders-lindegaard</td>\n",
        "      <td>  Anders Lindegaard</td>\n",
        "      <td> Manchester United</td>\n",
        "      <td> England</td>\n",
        "      <td> 13.04.1984</td>\n",
        "      <td> 193</td>\n",
        "      <td> 80</td>\n",
        "      <td>           Goalkeeper</td>\n",
        "      <td> 1</td>\n",
        "      <td> 0</td>\n",
        "      <td> 1</td>\n",
        "      <td> 0</td>\n",
        "      <td> 0</td>\n",
        "    </tr>\n",
        "    <tr>\n",
        "      <th>9 </th>\n",
        "      <td>       andreas-beck</td>\n",
        "      <td>       Andreas Beck</td>\n",
        "      <td>   1899 Hoffenheim</td>\n",
        "      <td> Germany</td>\n",
        "      <td> 13.03.1987</td>\n",
        "      <td> 180</td>\n",
        "      <td> 70</td>\n",
        "      <td>       Right Fullback</td>\n",
        "      <td> 1</td>\n",
        "      <td> 1</td>\n",
        "      <td> 0</td>\n",
        "      <td> 0</td>\n",
        "      <td> 0</td>\n",
        "    </tr>\n",
        "    <tr>\n",
        "      <th>10</th>\n",
        "      <td>   antonio-rukavina</td>\n",
        "      <td>   Antonio Rukavina</td>\n",
        "      <td>   Real Valladolid</td>\n",
        "      <td>   Spain</td>\n",
        "      <td> 26.01.1984</td>\n",
        "      <td> 177</td>\n",
        "      <td> 74</td>\n",
        "      <td>       Right Fullback</td>\n",
        "      <td> 2</td>\n",
        "      <td> 2</td>\n",
        "      <td> 0</td>\n",
        "      <td> 0</td>\n",
        "      <td> 0</td>\n",
        "    </tr>\n",
        "  </tbody>\n",
        "</table>\n",
        "</div>"
       ],
       "metadata": {},
       "output_type": "pyout",
       "prompt_number": 4,
       "text": [
        "           playerShort              player               club leagueCountry  \\\n",
        "0        lucas-wilchez       Lucas Wilchez      Real Zaragoza         Spain   \n",
        "1           john-utaka          John Utaka    Montpellier HSC        France   \n",
        "2          abdon-prats         Abd\u00f3n Prats       RCD Mallorca         Spain   \n",
        "3           pablo-mari          Pablo Mar\u00ed       RCD Mallorca         Spain   \n",
        "4           ruben-pena          Rub\u00e9n Pe\u00f1a    Real Valladolid         Spain   \n",
        "5         aaron-hughes        Aaron Hughes          Fulham FC       England   \n",
        "6   aleksandar-kolarov  Aleksandar Kolarov    Manchester City       England   \n",
        "7     alexander-tettey    Alexander Tettey       Norwich City       England   \n",
        "8    anders-lindegaard   Anders Lindegaard  Manchester United       England   \n",
        "9         andreas-beck        Andreas Beck    1899 Hoffenheim       Germany   \n",
        "10    antonio-rukavina    Antonio Rukavina    Real Valladolid         Spain   \n",
        "\n",
        "      birthday  height  weight              position  games  victories  ties  \\\n",
        "0   31.08.1983     177      72  Attacking Midfielder      1          0     0   \n",
        "1   08.01.1982     179      82          Right Winger      1          0     0   \n",
        "2   17.12.1992     181      79                   NaN      1          0     1   \n",
        "3   31.08.1993     191      87           Center Back      1          1     0   \n",
        "4   18.07.1991     172      70      Right Midfielder      1          1     0   \n",
        "5   08.11.1979     182      71           Center Back      1          0     0   \n",
        "6   10.11.1985     187      80         Left Fullback      1          1     0   \n",
        "7   04.04.1986     180      68  Defensive Midfielder      1          0     0   \n",
        "8   13.04.1984     193      80            Goalkeeper      1          0     1   \n",
        "9   13.03.1987     180      70        Right Fullback      1          1     0   \n",
        "10  26.01.1984     177      74        Right Fullback      2          2     0   \n",
        "\n",
        "    defeats  goals  \n",
        "0         1      0  \n",
        "1         1      0  \n",
        "2         0      0  \n",
        "3         0      0  \n",
        "4         0      0  \n",
        "5         1      0  \n",
        "6         0      0  \n",
        "7         1      0  \n",
        "8         0      0  \n",
        "9         0      0  \n",
        "10        0      0  "
       ]
      }
     ],
     "prompt_number": 4
    },
    {
     "cell_type": "code",
     "collapsed": false,
     "input": [
      "# Display the other columns too\n",
      "df.ix[:10,13:28]"
     ],
     "language": "python",
     "metadata": {},
     "outputs": [
      {
       "html": [
        "<div style=\"max-height:1000px;max-width:1500px;overflow:auto;\">\n",
        "<table border=\"1\" class=\"dataframe\">\n",
        "  <thead>\n",
        "    <tr style=\"text-align: right;\">\n",
        "      <th></th>\n",
        "      <th>yellowCards</th>\n",
        "      <th>yellowReds</th>\n",
        "      <th>redCards</th>\n",
        "      <th>photoID</th>\n",
        "      <th>rater1</th>\n",
        "      <th>rater2</th>\n",
        "      <th>refNum</th>\n",
        "      <th>refCountry</th>\n",
        "      <th>Alpha_3</th>\n",
        "      <th>meanIAT</th>\n",
        "      <th>nIAT</th>\n",
        "      <th>seIAT</th>\n",
        "      <th>meanExp</th>\n",
        "      <th>nExp</th>\n",
        "      <th>seExp</th>\n",
        "    </tr>\n",
        "  </thead>\n",
        "  <tbody>\n",
        "    <tr>\n",
        "      <th>0 </th>\n",
        "      <td> 0</td>\n",
        "      <td> 0</td>\n",
        "      <td> 0</td>\n",
        "      <td> 95212.jpg</td>\n",
        "      <td> 0.25</td>\n",
        "      <td> 0.50</td>\n",
        "      <td> 1</td>\n",
        "      <td> 1</td>\n",
        "      <td> GRC</td>\n",
        "      <td> 0.326391</td>\n",
        "      <td>  712</td>\n",
        "      <td> 0.000564</td>\n",
        "      <td> 0.396000</td>\n",
        "      <td>  750</td>\n",
        "      <td> 0.002696</td>\n",
        "    </tr>\n",
        "    <tr>\n",
        "      <th>1 </th>\n",
        "      <td> 1</td>\n",
        "      <td> 0</td>\n",
        "      <td> 0</td>\n",
        "      <td>  1663.jpg</td>\n",
        "      <td> 0.75</td>\n",
        "      <td> 0.75</td>\n",
        "      <td> 2</td>\n",
        "      <td> 2</td>\n",
        "      <td> ZMB</td>\n",
        "      <td> 0.203375</td>\n",
        "      <td>   40</td>\n",
        "      <td> 0.010875</td>\n",
        "      <td>-0.204082</td>\n",
        "      <td>   49</td>\n",
        "      <td> 0.061504</td>\n",
        "    </tr>\n",
        "    <tr>\n",
        "      <th>2 </th>\n",
        "      <td> 1</td>\n",
        "      <td> 0</td>\n",
        "      <td> 0</td>\n",
        "      <td>       NaN</td>\n",
        "      <td>  NaN</td>\n",
        "      <td>  NaN</td>\n",
        "      <td> 3</td>\n",
        "      <td> 3</td>\n",
        "      <td> ESP</td>\n",
        "      <td> 0.369894</td>\n",
        "      <td> 1785</td>\n",
        "      <td> 0.000229</td>\n",
        "      <td> 0.588297</td>\n",
        "      <td> 1897</td>\n",
        "      <td> 0.001002</td>\n",
        "    </tr>\n",
        "    <tr>\n",
        "      <th>3 </th>\n",
        "      <td> 0</td>\n",
        "      <td> 0</td>\n",
        "      <td> 0</td>\n",
        "      <td>       NaN</td>\n",
        "      <td>  NaN</td>\n",
        "      <td>  NaN</td>\n",
        "      <td> 3</td>\n",
        "      <td> 3</td>\n",
        "      <td> ESP</td>\n",
        "      <td> 0.369894</td>\n",
        "      <td> 1785</td>\n",
        "      <td> 0.000229</td>\n",
        "      <td> 0.588297</td>\n",
        "      <td> 1897</td>\n",
        "      <td> 0.001002</td>\n",
        "    </tr>\n",
        "    <tr>\n",
        "      <th>4 </th>\n",
        "      <td> 0</td>\n",
        "      <td> 0</td>\n",
        "      <td> 0</td>\n",
        "      <td>       NaN</td>\n",
        "      <td>  NaN</td>\n",
        "      <td>  NaN</td>\n",
        "      <td> 3</td>\n",
        "      <td> 3</td>\n",
        "      <td> ESP</td>\n",
        "      <td> 0.369894</td>\n",
        "      <td> 1785</td>\n",
        "      <td> 0.000229</td>\n",
        "      <td> 0.588297</td>\n",
        "      <td> 1897</td>\n",
        "      <td> 0.001002</td>\n",
        "    </tr>\n",
        "    <tr>\n",
        "      <th>5 </th>\n",
        "      <td> 0</td>\n",
        "      <td> 0</td>\n",
        "      <td> 0</td>\n",
        "      <td>  3868.jpg</td>\n",
        "      <td> 0.25</td>\n",
        "      <td> 0.00</td>\n",
        "      <td> 4</td>\n",
        "      <td> 4</td>\n",
        "      <td> LUX</td>\n",
        "      <td> 0.325185</td>\n",
        "      <td>  127</td>\n",
        "      <td> 0.003297</td>\n",
        "      <td> 0.538462</td>\n",
        "      <td>  130</td>\n",
        "      <td> 0.013752</td>\n",
        "    </tr>\n",
        "    <tr>\n",
        "      <th>6 </th>\n",
        "      <td> 0</td>\n",
        "      <td> 0</td>\n",
        "      <td> 0</td>\n",
        "      <td> 47704.jpg</td>\n",
        "      <td> 0.00</td>\n",
        "      <td> 0.25</td>\n",
        "      <td> 4</td>\n",
        "      <td> 4</td>\n",
        "      <td> LUX</td>\n",
        "      <td> 0.325185</td>\n",
        "      <td>  127</td>\n",
        "      <td> 0.003297</td>\n",
        "      <td> 0.538462</td>\n",
        "      <td>  130</td>\n",
        "      <td> 0.013752</td>\n",
        "    </tr>\n",
        "    <tr>\n",
        "      <th>7 </th>\n",
        "      <td> 0</td>\n",
        "      <td> 0</td>\n",
        "      <td> 0</td>\n",
        "      <td> 22356.jpg</td>\n",
        "      <td> 1.00</td>\n",
        "      <td> 1.00</td>\n",
        "      <td> 4</td>\n",
        "      <td> 4</td>\n",
        "      <td> LUX</td>\n",
        "      <td> 0.325185</td>\n",
        "      <td>  127</td>\n",
        "      <td> 0.003297</td>\n",
        "      <td> 0.538462</td>\n",
        "      <td>  130</td>\n",
        "      <td> 0.013752</td>\n",
        "    </tr>\n",
        "    <tr>\n",
        "      <th>8 </th>\n",
        "      <td> 0</td>\n",
        "      <td> 0</td>\n",
        "      <td> 0</td>\n",
        "      <td> 16528.jpg</td>\n",
        "      <td> 0.25</td>\n",
        "      <td> 0.25</td>\n",
        "      <td> 4</td>\n",
        "      <td> 4</td>\n",
        "      <td> LUX</td>\n",
        "      <td> 0.325185</td>\n",
        "      <td>  127</td>\n",
        "      <td> 0.003297</td>\n",
        "      <td> 0.538462</td>\n",
        "      <td>  130</td>\n",
        "      <td> 0.013752</td>\n",
        "    </tr>\n",
        "    <tr>\n",
        "      <th>9 </th>\n",
        "      <td> 0</td>\n",
        "      <td> 0</td>\n",
        "      <td> 0</td>\n",
        "      <td> 36499.jpg</td>\n",
        "      <td> 0.00</td>\n",
        "      <td> 0.00</td>\n",
        "      <td> 4</td>\n",
        "      <td> 4</td>\n",
        "      <td> LUX</td>\n",
        "      <td> 0.325185</td>\n",
        "      <td>  127</td>\n",
        "      <td> 0.003297</td>\n",
        "      <td> 0.538462</td>\n",
        "      <td>  130</td>\n",
        "      <td> 0.013752</td>\n",
        "    </tr>\n",
        "    <tr>\n",
        "      <th>10</th>\n",
        "      <td> 1</td>\n",
        "      <td> 0</td>\n",
        "      <td> 0</td>\n",
        "      <td> 59786.jpg</td>\n",
        "      <td> 0.00</td>\n",
        "      <td> 0.00</td>\n",
        "      <td> 4</td>\n",
        "      <td> 4</td>\n",
        "      <td> LUX</td>\n",
        "      <td> 0.325185</td>\n",
        "      <td>  127</td>\n",
        "      <td> 0.003297</td>\n",
        "      <td> 0.538462</td>\n",
        "      <td>  130</td>\n",
        "      <td> 0.013752</td>\n",
        "    </tr>\n",
        "  </tbody>\n",
        "</table>\n",
        "</div>"
       ],
       "metadata": {},
       "output_type": "pyout",
       "prompt_number": 5,
       "text": [
        "    yellowCards  yellowReds  redCards    photoID  rater1  rater2  refNum  \\\n",
        "0             0           0         0  95212.jpg    0.25    0.50       1   \n",
        "1             1           0         0   1663.jpg    0.75    0.75       2   \n",
        "2             1           0         0        NaN     NaN     NaN       3   \n",
        "3             0           0         0        NaN     NaN     NaN       3   \n",
        "4             0           0         0        NaN     NaN     NaN       3   \n",
        "5             0           0         0   3868.jpg    0.25    0.00       4   \n",
        "6             0           0         0  47704.jpg    0.00    0.25       4   \n",
        "7             0           0         0  22356.jpg    1.00    1.00       4   \n",
        "8             0           0         0  16528.jpg    0.25    0.25       4   \n",
        "9             0           0         0  36499.jpg    0.00    0.00       4   \n",
        "10            1           0         0  59786.jpg    0.00    0.00       4   \n",
        "\n",
        "    refCountry Alpha_3   meanIAT  nIAT     seIAT   meanExp  nExp     seExp  \n",
        "0            1     GRC  0.326391   712  0.000564  0.396000   750  0.002696  \n",
        "1            2     ZMB  0.203375    40  0.010875 -0.204082    49  0.061504  \n",
        "2            3     ESP  0.369894  1785  0.000229  0.588297  1897  0.001002  \n",
        "3            3     ESP  0.369894  1785  0.000229  0.588297  1897  0.001002  \n",
        "4            3     ESP  0.369894  1785  0.000229  0.588297  1897  0.001002  \n",
        "5            4     LUX  0.325185   127  0.003297  0.538462   130  0.013752  \n",
        "6            4     LUX  0.325185   127  0.003297  0.538462   130  0.013752  \n",
        "7            4     LUX  0.325185   127  0.003297  0.538462   130  0.013752  \n",
        "8            4     LUX  0.325185   127  0.003297  0.538462   130  0.013752  \n",
        "9            4     LUX  0.325185   127  0.003297  0.538462   130  0.013752  \n",
        "10           4     LUX  0.325185   127  0.003297  0.538462   130  0.013752  "
       ]
      }
     ],
     "prompt_number": 5
    },
    {
     "cell_type": "markdown",
     "metadata": {},
     "source": [
      "We already see some strange things in the data. Some refs officiated very few games. The two raters disagree about player skintone quite often. For some players there isn't a photo, so their skin tone couldn't be rated. Most dyads don't feature cards at all. In general, it's difficult to get an intuition for what the population looks like from inspecting small samples of the data. This is particularly difficult in the dyad format, as each player or ref's cards are spread un-evenly across the dataset. "
     ]
    },
    {
     "cell_type": "markdown",
     "metadata": {},
     "source": [
      "# 2 Disaggregating the data into single player-ref interactions\n",
      "\n",
      "Team Sheffield felt a more natural format for the data was to *disaggregate* it. In other words, to unpack each dyad into singular ref-player interaction. In other words, each time a player and a referee met they would contribute one row to the dataset (and thus that interaction has a maximum of one red card). \n",
      "\n",
      "If you're interested in how the disaggregation was done, the code is in (our project folder on the OSF](https://osf.io/akqt4/) - the file is disaggregate_v3.py"
     ]
    },
    {
     "cell_type": "code",
     "collapsed": false,
     "input": [
      "# Load disaggregated data\n",
      "print \"loading disaggregated data\"\n",
      "dfd = pd.read_csv('crowdstorm_disaggregated.csv') "
     ],
     "language": "python",
     "metadata": {},
     "outputs": [
      {
       "output_type": "stream",
       "stream": "stdout",
       "text": [
        "loading disaggregated data\n"
       ]
      }
     ],
     "prompt_number": 6
    },
    {
     "cell_type": "markdown",
     "metadata": {},
     "source": [
      "We now have a much more 'normal' dataset, where each data point accounts for a single interaction (i.e. a game) . "
     ]
    },
    {
     "cell_type": "markdown",
     "metadata": {},
     "source": [
      "### What is the distribution of individual ref-player dyad game numbers? "
     ]
    },
    {
     "cell_type": "code",
     "collapsed": false,
     "input": [
      "# Pull out the number of games in each dyad and plot \n",
      "games = dfd.games\n",
      "\n",
      "fig, axes = plt.subplots(nrows=1, ncols=2, figsize=(12, 4))\n",
      "\n",
      "axes[0].hist(games,bins=max(games),histtype = 'stepfilled')\n",
      "axes[0].set_xlabel('Number of interactions')\n",
      "axes[0].set_ylabel('Frequency')\n",
      "\n",
      "axes[1].hist(games,bins=max(games),histtype = 'stepfilled')\n",
      "axes[1].set_yscale('symlog') # symetric log scale NOTE this breaks the nice plotting tools\n",
      "axes[1].set_title(\"Log scaled\")\n",
      "axes[1].set_xlabel('Number of interactions')\n",
      "axes[1].set_ylabel('Log Frequency')\n",
      "\n",
      "\n",
      "fig.tight_layout()\n",
      "# display_d3()\n",
      "\n",
      "print \"highest number of games in a single dyad = \" + str(max(games))"
     ],
     "language": "python",
     "metadata": {},
     "outputs": [
      {
       "output_type": "stream",
       "stream": "stdout",
       "text": [
        "highest number of games in a single dyad = 47\n"
       ]
      },
      {
       "metadata": {},
       "output_type": "display_data",
       "png": "[encoded data removed]",
       "text": [
        "<matplotlib.figure.Figure at 0x11d683810>"
       ]
      }
     ],
     "prompt_number": 7
    },
    {
     "cell_type": "markdown",
     "metadata": {},
     "source": [
      "### i.e. how likely is it that a single ref officiates the same player many times?\n",
      "\n",
      "#### Answer: not very\n",
      "Half of the dyads are unique, with the other half following an exponential decay all the way out to a high of 47 games, which is actually a pretty huge number. Who are the players featuring in these high (>=40, say) game dyads (ie the guys who meet the same ref 40+ times)?"
     ]
    },
    {
     "cell_type": "code",
     "collapsed": false,
     "input": [
      "stalwarts = dfd[dfd.games>=40]\n",
      "print stalwarts.player.unique()"
     ],
     "language": "python",
     "metadata": {},
     "outputs": [
      {
       "output_type": "stream",
       "stream": "stdout",
       "text": [
        "['Bastian Schweinsteiger' 'Philipp Lahm' 'Paul Scholes' 'Michael Carrick'\n",
        " 'Wayne Rooney' 'Mark Schwarzer' 'Ashley Cole' 'Frank Lampard'\n",
        " 'James Milner' 'John Terry']\n"
       ]
      }
     ],
     "prompt_number": 8
    },
    {
     "cell_type": "markdown",
     "metadata": {},
     "source": [
      "Now, that at least makes sense. We see that many England Internationals, and two World Cup winning German Internationals (each with long careers in top-flight football) have played with the same referees many times.\n",
      "\n",
      "By contrast, how rare are red cards?"
     ]
    },
    {
     "cell_type": "code",
     "collapsed": false,
     "input": [
      "print \"Total interactions =\", len(dfd)\n",
      "clean_interactions = dfd[(dfd['allreds'] == 0)]\n",
      "print \"Number of red cards in the dataset =\", len(dfd) - len(clean_interactions)\n",
      "print \"Number of interactions without a red card =\", len(clean_interactions)\n",
      "\n",
      "print \"Proportion of interactions that are 'clean' =\", len(clean_interactions) / float(len(dfd))"
     ],
     "language": "python",
     "metadata": {},
     "outputs": [
      {
       "output_type": "stream",
       "stream": "stdout",
       "text": [
        "Total interactions = 426572\n",
        "Number of red cards in the dataset ="
       ]
      },
      {
       "output_type": "stream",
       "stream": "stdout",
       "text": [
        " 3496\n",
        "Number of interactions without a red card = 423076\n",
        "Proportion of interactions that are 'clean' = 0.991804431608\n"
       ]
      }
     ],
     "prompt_number": 9
    },
    {
     "cell_type": "markdown",
     "metadata": {},
     "source": [
      "In sum, red cards are very rare. We also showed that the distributions of player and ref occurance are highly skewed. Therefore, any analysis method applied to this population needs to be able to handle these properties of the data set."
     ]
    },
    {
     "cell_type": "markdown",
     "metadata": {},
     "source": [
      "# 3 Discovering a major source of data impurity \n",
      "\n",
      "How we worked out that players' entire histories are included in the data set\n"
     ]
    },
    {
     "cell_type": "markdown",
     "metadata": {},
     "source": [
      "### How many refs are there in the dataset? \n"
     ]
    },
    {
     "cell_type": "code",
     "collapsed": false,
     "input": [
      "allRefs = dfd.refNum.value_counts()\n",
      "print \"Number of refs =\", len(allRefs)\n",
      "print \"Number of dyads in the dataset =\", sum(allRefs)"
     ],
     "language": "python",
     "metadata": {},
     "outputs": [
      {
       "output_type": "stream",
       "stream": "stdout",
       "text": [
        "Number of refs = 3147\n",
        "Number of dyads in the dataset = 426572\n"
       ]
      }
     ],
     "prompt_number": 10
    },
    {
     "cell_type": "markdown",
     "metadata": {},
     "source": [
      "###Let's now look at the countries referees come from. There are a lot of them"
     ]
    },
    {
     "cell_type": "code",
     "collapsed": false,
     "input": [
      "import mpld3\n",
      "mpld3.enable_notebook()\n",
      "# Histogram of country frequency. \n",
      "fig, ax = plt.subplots(1,1,figsize=(12, 4))\n",
      "x = dfd.Alpha_3.value_counts()\n",
      "lines = ax.plot(x,marker='.',ms=20)\n",
      "\n",
      "y = x.index.tolist() \n",
      "\n",
      "tooltips = mpld3.plugins.PointLabelTooltip(lines[0], labels=y)\n",
      "mpld3.plugins.connect(plt.gcf(), tooltips)\n",
      "\n",
      "ax.set_title('Referee nationality by number of games')\n",
      "ax.set_xlabel('Country number (ordered by frequency)')\n",
      "ax.set_ylabel('Frequency of games')\n",
      "ax.set_xlim([-3,160]) # a hack so we can see the first point most clearly"
     ],
     "language": "python",
     "metadata": {},
     "outputs": [
      {
       "metadata": {},
       "output_type": "pyout",
       "prompt_number": 11,
       "text": [
        "(-3, 160)"
       ]
      },
      {
       "html": [
        "\n",
        "\n",
        "<style>\n",
        "\n",
        "</style>\n",
        "\n",
        "<div id=\"fig_el973946939326243804905484\"></div>\n",
        "<script>\n",
        "function mpld3_load_lib(url, callback){\n",
        "  var s = document.createElement('script');\n",
        "  s.src = url;\n",
        "  s.async = true;\n",
        "  s.onreadystatechange = s.onload = callback;\n",
        "  s.onerror = function(){console.warn(\"failed to load library \" + url);};\n",
        "  document.getElementsByTagName(\"head\")[0].appendChild(s);\n",
        "}\n",
        "\n",
        "if(typeof(mpld3) !== \"undefined\" && mpld3._mpld3IsLoaded){\n",
        "   // already loaded: just create the figure\n",
        "   !function(mpld3){\n",
        "       \n",
        "       mpld3.draw_figure(\"fig_el973946939326243804905484\", {\"axes\": [{\"xlim\": [-3.0, 160.0], \"yscale\": \"linear\", \"axesbg\": \"#EAEAF2\", \"texts\": [{\"v_baseline\": \"hanging\", \"h_anchor\": \"middle\", \"color\": \"#262626\", \"text\": \"Country number (ordered by frequency)\", \"coordinates\": \"axes\", \"zorder\": 3, \"alpha\": 1, \"fontsize\": 11.0, \"position\": [0.5, -0.094086021505376358], \"rotation\": -0.0, \"id\": \"el97394693958416\"}, {\"v_baseline\": \"auto\", \"h_anchor\": \"middle\", \"color\": \"#262626\", \"text\": \"Frequency of games\", \"coordinates\": \"axes\", \"zorder\": 3, \"alpha\": 1, \"fontsize\": 11.0, \"position\": [-0.07271365367383513, 0.5], \"rotation\": -90.0, \"id\": \"el97394693991120\"}, {\"v_baseline\": \"auto\", \"h_anchor\": \"middle\", \"color\": \"#262626\", \"text\": \"Referee nationality by number of games\", \"coordinates\": \"axes\", \"zorder\": 3, \"alpha\": 1, \"fontsize\": 12.0, \"position\": [0.5, 1.0224014336917562], \"rotation\": -0.0, \"id\": \"el97394694046544\"}], \"zoomable\": true, \"images\": [], \"xdomain\": [-3.0, 160.0], \"ylim\": [0.0, 120000.0], \"paths\": [], \"sharey\": [], \"sharex\": [], \"axesbgalpha\": null, \"axes\": [{\"scale\": \"linear\", \"tickformat\": null, \"grid\": {\"color\": \"#FFFFFF\", \"alpha\": 1.0, \"dasharray\": \"10,0\", \"gridOn\": true}, \"fontsize\": 10.0, \"position\": \"bottom\", \"nticks\": 10, \"tickvalues\": null}, {\"scale\": \"linear\", \"tickformat\": null, \"grid\": {\"color\": \"#FFFFFF\", \"alpha\": 1.0, \"dasharray\": \"10,0\", \"gridOn\": true}, \"fontsize\": 10.0, \"position\": \"left\", \"nticks\": 7, \"tickvalues\": null}], \"lines\": [{\"color\": \"#4C72B0\", \"yindex\": 1, \"coordinates\": \"data\", \"dasharray\": \"none\", \"zorder\": 2, \"alpha\": 1, \"xindex\": 0, \"linewidth\": 1.75, \"data\": \"data01\", \"id\": \"el97394694101520\"}], \"markers\": [{\"edgecolor\": \"#4C72B0\", \"facecolor\": \"#4C72B0\", \"edgewidth\": 0, \"yindex\": 1, \"coordinates\": \"data\", \"zorder\": 2, \"markerpath\": [[[0.0, 5.0], [1.3260155, 5.0], [2.597899353924267, 4.473168457941209], [3.5355339059327378, 3.5355339059327378], [4.473168457941209, 2.597899353924267], [5.0, 1.3260155], [5.0, 0.0], [5.0, -1.3260155], [4.473168457941209, -2.597899353924267], [3.5355339059327378, -3.5355339059327378], [2.597899353924267, -4.473168457941209], [1.3260155, -5.0], [0.0, -5.0], [-1.3260155, -5.0], [-2.597899353924267, -4.473168457941209], [-3.5355339059327378, -3.5355339059327378], [-4.473168457941209, -2.597899353924267], [-5.0, -1.3260155], [-5.0, 0.0], [-5.0, 1.3260155], [-4.473168457941209, 2.597899353924267], [-3.5355339059327378, 3.5355339059327378], [-2.597899353924267, 4.473168457941209], [-1.3260155, 5.0], [0.0, 5.0]], [\"M\", \"C\", \"C\", \"C\", \"C\", \"C\", \"C\", \"C\", \"C\", \"Z\"]], \"alpha\": 1, \"xindex\": 0, \"data\": \"data01\", \"id\": \"el97394694101520pts\"}], \"id\": \"el97394693933648\", \"ydomain\": [0.0, 120000.0], \"collections\": [], \"xscale\": \"linear\", \"bbox\": [0.125, 0.125, 0.77500000000000002, 0.77500000000000002]}], \"height\": 320.0, \"width\": 960.0, \"plugins\": [{\"type\": \"reset\"}, {\"enabled\": false, \"button\": true, \"type\": \"zoom\"}, {\"enabled\": false, \"button\": true, \"type\": \"boxzoom\"}, {\"voffset\": 10, \"labels\": [\"ENGL\", \"DEU\", \"FRA\", \"ESP\", \"ITA\", \"NLD\", \"PRT\", \"BEL\", \"SCOT\", \"CHE\", \"ARG\", \"NOR\", \"AUT\", \"DNK\", \"GRC\", \"SWE\", \"TUR\", \"RUS\", \"BRA\", \"ROU\", \"CZE\", \"MEX\", \"POL\", \"HUN\", \"SVN\", \"HRV\", \"LUX\", \"SVK\", \"JPN\", \"USA\", \"CHL\", \"IRL\", \"URY\", \"SRB\", \"ISR\", \"PRY\", \"UKR\", \"FIN\", \"COL\", \"ISL\", \"AUS\", \"BGR\", \"TUN\", \"PER\", \"MKD\", \"CYP\", \"ZAF\", \"WALES\", \"EST\", \"DZA\", \"UZB\", \"CAN\", \"KOR\", \"BLR\", \"SLV\", \"GTM\", \"ECU\", \"SYC\", \"VEN\", \"EGY\", \"MUS\", \"LTU\", \"BOL\", \"CRI\", \"MAR\", \"CHN\", \"LVA\", \"CMR\", \"GMB\", \"PAN\", \"ARE\", \"SEN\", \"IRN\", \"QAT  \", \"SAU\", \"MLT\", \"JAM\", \"BIH\", \"SGP\", \"CIV\", \"GEO\", \"MYS\", \"HND\", \"Mali\", \"AZE\", \"MNE\", \"BHR\", \"NZL\", \"BEN\", \"SUR\", \"TTO\", \"LBY\", \"ZMB\", \"GAB\", \"ARM\", \"MDA\", \"GHA\", \"ALB\", \"ZWE\", \"AGO\", \"SDN\", \"KAZ\", \"KWT\", \"OMN\", \"UGA\", \"LSO\", \"GIN\", \"BFA\", \"MDG\", \"KEN\", \"THA\", \"PRI\", \"PYF\", \"SMR\", \"JOR\", \"MRT\", \"GNQ\", \"ERI\", \"MWI\", \"ETH\", \"TGO\", \"NER\", \"BDI\", \"NAM\", \"IND\", \"SYR\", \"NGA\", \"LBN\", \"BWA\", \"FRO\", \"BRB\", \"HKG\", \"GUY\", \"COG\", \"CUB\", \"TZA\", \"FJI\", \"RWA\", \"TCD\", \"LIE\", \"BGD\", \"LBR\", \"HTI\", \"COD\", \"MOZ\", \"CPV\", \"SLB\", \"ANT\", \"CYM\", \"VUT\", \"SWZ\", \"LKA\", \"DOM\", \"NCL\", \"TKM\", \"IRQ\", \"ABW\", \"CAF\", \"NPL\", \"PRK\"], \"hoffset\": 0, \"location\": \"mouse\", \"type\": \"tooltip\", \"id\": \"el97394694101520pts\"}], \"data\": {\"data01\": [[0.0, 103511.0], [1.0, 83079.0], [2.0, 75198.0], [3.0, 72956.0], [4.0, 10088.0], [5.0, 9123.0], [6.0, 5434.0], [7.0, 5233.0], [8.0, 4180.0], [9.0, 3686.0], [10.0, 3364.0], [11.0, 2925.0], [12.0, 2886.0], [13.0, 2826.0], [14.0, 2747.0], [15.0, 2655.0], [16.0, 2596.0], [17.0, 2496.0], [18.0, 1704.0], [19.0, 1644.0], [20.0, 1559.0], [21.0, 1468.0], [22.0, 1379.0], [23.0, 1333.0], [24.0, 1317.0], [25.0, 1202.0], [26.0, 1118.0], [27.0, 1047.0], [28.0, 962.0], [29.0, 929.0], [30.0, 913.0], [31.0, 810.0], [32.0, 735.0], [33.0, 731.0], [34.0, 678.0], [35.0, 614.0], [36.0, 551.0], [37.0, 529.0], [38.0, 470.0], [39.0, 419.0], [40.0, 388.0], [41.0, 382.0], [42.0, 375.0], [43.0, 357.0], [44.0, 338.0], [45.0, 328.0], [46.0, 279.0], [47.0, 258.0], [48.0, 252.0], [49.0, 249.0], [50.0, 248.0], [51.0, 241.0], [52.0, 229.0], [53.0, 222.0], [54.0, 217.0], [55.0, 199.0], [56.0, 186.0], [57.0, 149.0], [58.0, 147.0], [59.0, 147.0], [60.0, 136.0], [61.0, 136.0], [62.0, 135.0], [63.0, 132.0], [64.0, 131.0], [65.0, 130.0], [66.0, 127.0], [67.0, 127.0], [68.0, 126.0], [69.0, 125.0], [70.0, 123.0], [71.0, 119.0], [72.0, 119.0], [73.0, 111.0], [74.0, 110.0], [75.0, 105.0], [76.0, 99.0], [77.0, 87.0], [78.0, 86.0], [79.0, 81.0], [80.0, 78.0], [81.0, 75.0], [82.0, 75.0], [83.0, 75.0], [84.0, 74.0], [85.0, 73.0], [86.0, 71.0], [87.0, 69.0], [88.0, 66.0], [89.0, 66.0], [90.0, 60.0], [91.0, 59.0], [92.0, 58.0], [93.0, 53.0], [94.0, 52.0], [95.0, 51.0], [96.0, 51.0], [97.0, 46.0], [98.0, 46.0], [99.0, 43.0], [100.0, 39.0], [101.0, 37.0], [102.0, 33.0], [103.0, 31.0], [104.0, 29.0], [105.0, 28.0], [106.0, 27.0], [107.0, 26.0], [108.0, 25.0], [109.0, 25.0], [110.0, 25.0], [111.0, 24.0], [112.0, 23.0], [113.0, 18.0], [114.0, 17.0], [115.0, 17.0], [116.0, 17.0], [117.0, 16.0], [118.0, 15.0], [119.0, 15.0], [120.0, 14.0], [121.0, 14.0], [122.0, 12.0], [123.0, 12.0], [124.0, 12.0], [125.0, 10.0], [126.0, 10.0], [127.0, 9.0], [128.0, 9.0], [129.0, 9.0], [130.0, 8.0], [131.0, 8.0], [132.0, 8.0], [133.0, 7.0], [134.0, 6.0], [135.0, 6.0], [136.0, 5.0], [137.0, 5.0], [138.0, 4.0], [139.0, 4.0], [140.0, 4.0], [141.0, 3.0], [142.0, 3.0], [143.0, 3.0], [144.0, 3.0], [145.0, 2.0], [146.0, 2.0], [147.0, 2.0], [148.0, 2.0], [149.0, 2.0], [150.0, 2.0], [151.0, 2.0], [152.0, 2.0], [153.0, 2.0], [154.0, 1.0], [155.0, 1.0], [156.0, 1.0], [157.0, 1.0], [158.0, 1.0], [159.0, 1.0]]}, \"id\": \"el97394693932624\"});\n",
        "   }(mpld3);\n",
        "}else if(typeof define === \"function\" && define.amd){\n",
        "   // require.js is available: use it to load d3/mpld3\n",
        "   require.config({paths: {d3: \"https://mpld3.github.io/js/d3.v3.min\"}});\n",
        "   require([\"d3\"], function(d3){\n",
        "      window.d3 = d3;\n",
        "      mpld3_load_lib(\"https://mpld3.github.io/js/mpld3.v0.3git.js\", function(){\n",
        "         \n",
        "         mpld3.draw_figure(\"fig_el973946939326243804905484\", {\"axes\": [{\"xlim\": [-3.0, 160.0], \"yscale\": \"linear\", \"axesbg\": \"#EAEAF2\", \"texts\": [{\"v_baseline\": \"hanging\", \"h_anchor\": \"middle\", \"color\": \"#262626\", \"text\": \"Country number (ordered by frequency)\", \"coordinates\": \"axes\", \"zorder\": 3, \"alpha\": 1, \"fontsize\": 11.0, \"position\": [0.5, -0.094086021505376358], \"rotation\": -0.0, \"id\": \"el97394693958416\"}, {\"v_baseline\": \"auto\", \"h_anchor\": \"middle\", \"color\": \"#262626\", \"text\": \"Frequency of games\", \"coordinates\": \"axes\", \"zorder\": 3, \"alpha\": 1, \"fontsize\": 11.0, \"position\": [-0.07271365367383513, 0.5], \"rotation\": -90.0, \"id\": \"el97394693991120\"}, {\"v_baseline\": \"auto\", \"h_anchor\": \"middle\", \"color\": \"#262626\", \"text\": \"Referee nationality by number of games\", \"coordinates\": \"axes\", \"zorder\": 3, \"alpha\": 1, \"fontsize\": 12.0, \"position\": [0.5, 1.0224014336917562], \"rotation\": -0.0, \"id\": \"el97394694046544\"}], \"zoomable\": true, \"images\": [], \"xdomain\": [-3.0, 160.0], \"ylim\": [0.0, 120000.0], \"paths\": [], \"sharey\": [], \"sharex\": [], \"axesbgalpha\": null, \"axes\": [{\"scale\": \"linear\", \"tickformat\": null, \"grid\": {\"color\": \"#FFFFFF\", \"alpha\": 1.0, \"dasharray\": \"10,0\", \"gridOn\": true}, \"fontsize\": 10.0, \"position\": \"bottom\", \"nticks\": 10, \"tickvalues\": null}, {\"scale\": \"linear\", \"tickformat\": null, \"grid\": {\"color\": \"#FFFFFF\", \"alpha\": 1.0, \"dasharray\": \"10,0\", \"gridOn\": true}, \"fontsize\": 10.0, \"position\": \"left\", \"nticks\": 7, \"tickvalues\": null}], \"lines\": [{\"color\": \"#4C72B0\", \"yindex\": 1, \"coordinates\": \"data\", \"dasharray\": \"none\", \"zorder\": 2, \"alpha\": 1, \"xindex\": 0, \"linewidth\": 1.75, \"data\": \"data01\", \"id\": \"el97394694101520\"}], \"markers\": [{\"edgecolor\": \"#4C72B0\", \"facecolor\": \"#4C72B0\", \"edgewidth\": 0, \"yindex\": 1, \"coordinates\": \"data\", \"zorder\": 2, \"markerpath\": [[[0.0, 5.0], [1.3260155, 5.0], [2.597899353924267, 4.473168457941209], [3.5355339059327378, 3.5355339059327378], [4.473168457941209, 2.597899353924267], [5.0, 1.3260155], [5.0, 0.0], [5.0, -1.3260155], [4.473168457941209, -2.597899353924267], [3.5355339059327378, -3.5355339059327378], [2.597899353924267, -4.473168457941209], [1.3260155, -5.0], [0.0, -5.0], [-1.3260155, -5.0], [-2.597899353924267, -4.473168457941209], [-3.5355339059327378, -3.5355339059327378], [-4.473168457941209, -2.597899353924267], [-5.0, -1.3260155], [-5.0, 0.0], [-5.0, 1.3260155], [-4.473168457941209, 2.597899353924267], [-3.5355339059327378, 3.5355339059327378], [-2.597899353924267, 4.473168457941209], [-1.3260155, 5.0], [0.0, 5.0]], [\"M\", \"C\", \"C\", \"C\", \"C\", \"C\", \"C\", \"C\", \"C\", \"Z\"]], \"alpha\": 1, \"xindex\": 0, \"data\": \"data01\", \"id\": \"el97394694101520pts\"}], \"id\": \"el97394693933648\", \"ydomain\": [0.0, 120000.0], \"collections\": [], \"xscale\": \"linear\", \"bbox\": [0.125, 0.125, 0.77500000000000002, 0.77500000000000002]}], \"height\": 320.0, \"width\": 960.0, \"plugins\": [{\"type\": \"reset\"}, {\"enabled\": false, \"button\": true, \"type\": \"zoom\"}, {\"enabled\": false, \"button\": true, \"type\": \"boxzoom\"}, {\"voffset\": 10, \"labels\": [\"ENGL\", \"DEU\", \"FRA\", \"ESP\", \"ITA\", \"NLD\", \"PRT\", \"BEL\", \"SCOT\", \"CHE\", \"ARG\", \"NOR\", \"AUT\", \"DNK\", \"GRC\", \"SWE\", \"TUR\", \"RUS\", \"BRA\", \"ROU\", \"CZE\", \"MEX\", \"POL\", \"HUN\", \"SVN\", \"HRV\", \"LUX\", \"SVK\", \"JPN\", \"USA\", \"CHL\", \"IRL\", \"URY\", \"SRB\", \"ISR\", \"PRY\", \"UKR\", \"FIN\", \"COL\", \"ISL\", \"AUS\", \"BGR\", \"TUN\", \"PER\", \"MKD\", \"CYP\", \"ZAF\", \"WALES\", \"EST\", \"DZA\", \"UZB\", \"CAN\", \"KOR\", \"BLR\", \"SLV\", \"GTM\", \"ECU\", \"SYC\", \"VEN\", \"EGY\", \"MUS\", \"LTU\", \"BOL\", \"CRI\", \"MAR\", \"CHN\", \"LVA\", \"CMR\", \"GMB\", \"PAN\", \"ARE\", \"SEN\", \"IRN\", \"QAT  \", \"SAU\", \"MLT\", \"JAM\", \"BIH\", \"SGP\", \"CIV\", \"GEO\", \"MYS\", \"HND\", \"Mali\", \"AZE\", \"MNE\", \"BHR\", \"NZL\", \"BEN\", \"SUR\", \"TTO\", \"LBY\", \"ZMB\", \"GAB\", \"ARM\", \"MDA\", \"GHA\", \"ALB\", \"ZWE\", \"AGO\", \"SDN\", \"KAZ\", \"KWT\", \"OMN\", \"UGA\", \"LSO\", \"GIN\", \"BFA\", \"MDG\", \"KEN\", \"THA\", \"PRI\", \"PYF\", \"SMR\", \"JOR\", \"MRT\", \"GNQ\", \"ERI\", \"MWI\", \"ETH\", \"TGO\", \"NER\", \"BDI\", \"NAM\", \"IND\", \"SYR\", \"NGA\", \"LBN\", \"BWA\", \"FRO\", \"BRB\", \"HKG\", \"GUY\", \"COG\", \"CUB\", \"TZA\", \"FJI\", \"RWA\", \"TCD\", \"LIE\", \"BGD\", \"LBR\", \"HTI\", \"COD\", \"MOZ\", \"CPV\", \"SLB\", \"ANT\", \"CYM\", \"VUT\", \"SWZ\", \"LKA\", \"DOM\", \"NCL\", \"TKM\", \"IRQ\", \"ABW\", \"CAF\", \"NPL\", \"PRK\"], \"hoffset\": 0, \"location\": \"mouse\", \"type\": \"tooltip\", \"id\": \"el97394694101520pts\"}], \"data\": {\"data01\": [[0.0, 103511.0], [1.0, 83079.0], [2.0, 75198.0], [3.0, 72956.0], [4.0, 10088.0], [5.0, 9123.0], [6.0, 5434.0], [7.0, 5233.0], [8.0, 4180.0], [9.0, 3686.0], [10.0, 3364.0], [11.0, 2925.0], [12.0, 2886.0], [13.0, 2826.0], [14.0, 2747.0], [15.0, 2655.0], [16.0, 2596.0], [17.0, 2496.0], [18.0, 1704.0], [19.0, 1644.0], [20.0, 1559.0], [21.0, 1468.0], [22.0, 1379.0], [23.0, 1333.0], [24.0, 1317.0], [25.0, 1202.0], [26.0, 1118.0], [27.0, 1047.0], [28.0, 962.0], [29.0, 929.0], [30.0, 913.0], [31.0, 810.0], [32.0, 735.0], [33.0, 731.0], [34.0, 678.0], [35.0, 614.0], [36.0, 551.0], [37.0, 529.0], [38.0, 470.0], [39.0, 419.0], [40.0, 388.0], [41.0, 382.0], [42.0, 375.0], [43.0, 357.0], [44.0, 338.0], [45.0, 328.0], [46.0, 279.0], [47.0, 258.0], [48.0, 252.0], [49.0, 249.0], [50.0, 248.0], [51.0, 241.0], [52.0, 229.0], [53.0, 222.0], [54.0, 217.0], [55.0, 199.0], [56.0, 186.0], [57.0, 149.0], [58.0, 147.0], [59.0, 147.0], [60.0, 136.0], [61.0, 136.0], [62.0, 135.0], [63.0, 132.0], [64.0, 131.0], [65.0, 130.0], [66.0, 127.0], [67.0, 127.0], [68.0, 126.0], [69.0, 125.0], [70.0, 123.0], [71.0, 119.0], [72.0, 119.0], [73.0, 111.0], [74.0, 110.0], [75.0, 105.0], [76.0, 99.0], [77.0, 87.0], [78.0, 86.0], [79.0, 81.0], [80.0, 78.0], [81.0, 75.0], [82.0, 75.0], [83.0, 75.0], [84.0, 74.0], [85.0, 73.0], [86.0, 71.0], [87.0, 69.0], [88.0, 66.0], [89.0, 66.0], [90.0, 60.0], [91.0, 59.0], [92.0, 58.0], [93.0, 53.0], [94.0, 52.0], [95.0, 51.0], [96.0, 51.0], [97.0, 46.0], [98.0, 46.0], [99.0, 43.0], [100.0, 39.0], [101.0, 37.0], [102.0, 33.0], [103.0, 31.0], [104.0, 29.0], [105.0, 28.0], [106.0, 27.0], [107.0, 26.0], [108.0, 25.0], [109.0, 25.0], [110.0, 25.0], [111.0, 24.0], [112.0, 23.0], [113.0, 18.0], [114.0, 17.0], [115.0, 17.0], [116.0, 17.0], [117.0, 16.0], [118.0, 15.0], [119.0, 15.0], [120.0, 14.0], [121.0, 14.0], [122.0, 12.0], [123.0, 12.0], [124.0, 12.0], [125.0, 10.0], [126.0, 10.0], [127.0, 9.0], [128.0, 9.0], [129.0, 9.0], [130.0, 8.0], [131.0, 8.0], [132.0, 8.0], [133.0, 7.0], [134.0, 6.0], [135.0, 6.0], [136.0, 5.0], [137.0, 5.0], [138.0, 4.0], [139.0, 4.0], [140.0, 4.0], [141.0, 3.0], [142.0, 3.0], [143.0, 3.0], [144.0, 3.0], [145.0, 2.0], [146.0, 2.0], [147.0, 2.0], [148.0, 2.0], [149.0, 2.0], [150.0, 2.0], [151.0, 2.0], [152.0, 2.0], [153.0, 2.0], [154.0, 1.0], [155.0, 1.0], [156.0, 1.0], [157.0, 1.0], [158.0, 1.0], [159.0, 1.0]]}, \"id\": \"el97394693932624\"});\n",
        "      });\n",
        "    });\n",
        "}else{\n",
        "    // require.js not available: dynamically load d3 & mpld3\n",
        "    mpld3_load_lib(\"https://mpld3.github.io/js/d3.v3.min.js\", function(){\n",
        "         mpld3_load_lib(\"https://mpld3.github.io/js/mpld3.v0.3git.js\", function(){\n",
        "                 \n",
        "                 mpld3.draw_figure(\"fig_el973946939326243804905484\", {\"axes\": [{\"xlim\": [-3.0, 160.0], \"yscale\": \"linear\", \"axesbg\": \"#EAEAF2\", \"texts\": [{\"v_baseline\": \"hanging\", \"h_anchor\": \"middle\", \"color\": \"#262626\", \"text\": \"Country number (ordered by frequency)\", \"coordinates\": \"axes\", \"zorder\": 3, \"alpha\": 1, \"fontsize\": 11.0, \"position\": [0.5, -0.094086021505376358], \"rotation\": -0.0, \"id\": \"el97394693958416\"}, {\"v_baseline\": \"auto\", \"h_anchor\": \"middle\", \"color\": \"#262626\", \"text\": \"Frequency of games\", \"coordinates\": \"axes\", \"zorder\": 3, \"alpha\": 1, \"fontsize\": 11.0, \"position\": [-0.07271365367383513, 0.5], \"rotation\": -90.0, \"id\": \"el97394693991120\"}, {\"v_baseline\": \"auto\", \"h_anchor\": \"middle\", \"color\": \"#262626\", \"text\": \"Referee nationality by number of games\", \"coordinates\": \"axes\", \"zorder\": 3, \"alpha\": 1, \"fontsize\": 12.0, \"position\": [0.5, 1.0224014336917562], \"rotation\": -0.0, \"id\": \"el97394694046544\"}], \"zoomable\": true, \"images\": [], \"xdomain\": [-3.0, 160.0], \"ylim\": [0.0, 120000.0], \"paths\": [], \"sharey\": [], \"sharex\": [], \"axesbgalpha\": null, \"axes\": [{\"scale\": \"linear\", \"tickformat\": null, \"grid\": {\"color\": \"#FFFFFF\", \"alpha\": 1.0, \"dasharray\": \"10,0\", \"gridOn\": true}, \"fontsize\": 10.0, \"position\": \"bottom\", \"nticks\": 10, \"tickvalues\": null}, {\"scale\": \"linear\", \"tickformat\": null, \"grid\": {\"color\": \"#FFFFFF\", \"alpha\": 1.0, \"dasharray\": \"10,0\", \"gridOn\": true}, \"fontsize\": 10.0, \"position\": \"left\", \"nticks\": 7, \"tickvalues\": null}], \"lines\": [{\"color\": \"#4C72B0\", \"yindex\": 1, \"coordinates\": \"data\", \"dasharray\": \"none\", \"zorder\": 2, \"alpha\": 1, \"xindex\": 0, \"linewidth\": 1.75, \"data\": \"data01\", \"id\": \"el97394694101520\"}], \"markers\": [{\"edgecolor\": \"#4C72B0\", \"facecolor\": \"#4C72B0\", \"edgewidth\": 0, \"yindex\": 1, \"coordinates\": \"data\", \"zorder\": 2, \"markerpath\": [[[0.0, 5.0], [1.3260155, 5.0], [2.597899353924267, 4.473168457941209], [3.5355339059327378, 3.5355339059327378], [4.473168457941209, 2.597899353924267], [5.0, 1.3260155], [5.0, 0.0], [5.0, -1.3260155], [4.473168457941209, -2.597899353924267], [3.5355339059327378, -3.5355339059327378], [2.597899353924267, -4.473168457941209], [1.3260155, -5.0], [0.0, -5.0], [-1.3260155, -5.0], [-2.597899353924267, -4.473168457941209], [-3.5355339059327378, -3.5355339059327378], [-4.473168457941209, -2.597899353924267], [-5.0, -1.3260155], [-5.0, 0.0], [-5.0, 1.3260155], [-4.473168457941209, 2.597899353924267], [-3.5355339059327378, 3.5355339059327378], [-2.597899353924267, 4.473168457941209], [-1.3260155, 5.0], [0.0, 5.0]], [\"M\", \"C\", \"C\", \"C\", \"C\", \"C\", \"C\", \"C\", \"C\", \"Z\"]], \"alpha\": 1, \"xindex\": 0, \"data\": \"data01\", \"id\": \"el97394694101520pts\"}], \"id\": \"el97394693933648\", \"ydomain\": [0.0, 120000.0], \"collections\": [], \"xscale\": \"linear\", \"bbox\": [0.125, 0.125, 0.77500000000000002, 0.77500000000000002]}], \"height\": 320.0, \"width\": 960.0, \"plugins\": [{\"type\": \"reset\"}, {\"enabled\": false, \"button\": true, \"type\": \"zoom\"}, {\"enabled\": false, \"button\": true, \"type\": \"boxzoom\"}, {\"voffset\": 10, \"labels\": [\"ENGL\", \"DEU\", \"FRA\", \"ESP\", \"ITA\", \"NLD\", \"PRT\", \"BEL\", \"SCOT\", \"CHE\", \"ARG\", \"NOR\", \"AUT\", \"DNK\", \"GRC\", \"SWE\", \"TUR\", \"RUS\", \"BRA\", \"ROU\", \"CZE\", \"MEX\", \"POL\", \"HUN\", \"SVN\", \"HRV\", \"LUX\", \"SVK\", \"JPN\", \"USA\", \"CHL\", \"IRL\", \"URY\", \"SRB\", \"ISR\", \"PRY\", \"UKR\", \"FIN\", \"COL\", \"ISL\", \"AUS\", \"BGR\", \"TUN\", \"PER\", \"MKD\", \"CYP\", \"ZAF\", \"WALES\", \"EST\", \"DZA\", \"UZB\", \"CAN\", \"KOR\", \"BLR\", \"SLV\", \"GTM\", \"ECU\", \"SYC\", \"VEN\", \"EGY\", \"MUS\", \"LTU\", \"BOL\", \"CRI\", \"MAR\", \"CHN\", \"LVA\", \"CMR\", \"GMB\", \"PAN\", \"ARE\", \"SEN\", \"IRN\", \"QAT  \", \"SAU\", \"MLT\", \"JAM\", \"BIH\", \"SGP\", \"CIV\", \"GEO\", \"MYS\", \"HND\", \"Mali\", \"AZE\", \"MNE\", \"BHR\", \"NZL\", \"BEN\", \"SUR\", \"TTO\", \"LBY\", \"ZMB\", \"GAB\", \"ARM\", \"MDA\", \"GHA\", \"ALB\", \"ZWE\", \"AGO\", \"SDN\", \"KAZ\", \"KWT\", \"OMN\", \"UGA\", \"LSO\", \"GIN\", \"BFA\", \"MDG\", \"KEN\", \"THA\", \"PRI\", \"PYF\", \"SMR\", \"JOR\", \"MRT\", \"GNQ\", \"ERI\", \"MWI\", \"ETH\", \"TGO\", \"NER\", \"BDI\", \"NAM\", \"IND\", \"SYR\", \"NGA\", \"LBN\", \"BWA\", \"FRO\", \"BRB\", \"HKG\", \"GUY\", \"COG\", \"CUB\", \"TZA\", \"FJI\", \"RWA\", \"TCD\", \"LIE\", \"BGD\", \"LBR\", \"HTI\", \"COD\", \"MOZ\", \"CPV\", \"SLB\", \"ANT\", \"CYM\", \"VUT\", \"SWZ\", \"LKA\", \"DOM\", \"NCL\", \"TKM\", \"IRQ\", \"ABW\", \"CAF\", \"NPL\", \"PRK\"], \"hoffset\": 0, \"location\": \"mouse\", \"type\": \"tooltip\", \"id\": \"el97394694101520pts\"}], \"data\": {\"data01\": [[0.0, 103511.0], [1.0, 83079.0], [2.0, 75198.0], [3.0, 72956.0], [4.0, 10088.0], [5.0, 9123.0], [6.0, 5434.0], [7.0, 5233.0], [8.0, 4180.0], [9.0, 3686.0], [10.0, 3364.0], [11.0, 2925.0], [12.0, 2886.0], [13.0, 2826.0], [14.0, 2747.0], [15.0, 2655.0], [16.0, 2596.0], [17.0, 2496.0], [18.0, 1704.0], [19.0, 1644.0], [20.0, 1559.0], [21.0, 1468.0], [22.0, 1379.0], [23.0, 1333.0], [24.0, 1317.0], [25.0, 1202.0], [26.0, 1118.0], [27.0, 1047.0], [28.0, 962.0], [29.0, 929.0], [30.0, 913.0], [31.0, 810.0], [32.0, 735.0], [33.0, 731.0], [34.0, 678.0], [35.0, 614.0], [36.0, 551.0], [37.0, 529.0], [38.0, 470.0], [39.0, 419.0], [40.0, 388.0], [41.0, 382.0], [42.0, 375.0], [43.0, 357.0], [44.0, 338.0], [45.0, 328.0], [46.0, 279.0], [47.0, 258.0], [48.0, 252.0], [49.0, 249.0], [50.0, 248.0], [51.0, 241.0], [52.0, 229.0], [53.0, 222.0], [54.0, 217.0], [55.0, 199.0], [56.0, 186.0], [57.0, 149.0], [58.0, 147.0], [59.0, 147.0], [60.0, 136.0], [61.0, 136.0], [62.0, 135.0], [63.0, 132.0], [64.0, 131.0], [65.0, 130.0], [66.0, 127.0], [67.0, 127.0], [68.0, 126.0], [69.0, 125.0], [70.0, 123.0], [71.0, 119.0], [72.0, 119.0], [73.0, 111.0], [74.0, 110.0], [75.0, 105.0], [76.0, 99.0], [77.0, 87.0], [78.0, 86.0], [79.0, 81.0], [80.0, 78.0], [81.0, 75.0], [82.0, 75.0], [83.0, 75.0], [84.0, 74.0], [85.0, 73.0], [86.0, 71.0], [87.0, 69.0], [88.0, 66.0], [89.0, 66.0], [90.0, 60.0], [91.0, 59.0], [92.0, 58.0], [93.0, 53.0], [94.0, 52.0], [95.0, 51.0], [96.0, 51.0], [97.0, 46.0], [98.0, 46.0], [99.0, 43.0], [100.0, 39.0], [101.0, 37.0], [102.0, 33.0], [103.0, 31.0], [104.0, 29.0], [105.0, 28.0], [106.0, 27.0], [107.0, 26.0], [108.0, 25.0], [109.0, 25.0], [110.0, 25.0], [111.0, 24.0], [112.0, 23.0], [113.0, 18.0], [114.0, 17.0], [115.0, 17.0], [116.0, 17.0], [117.0, 16.0], [118.0, 15.0], [119.0, 15.0], [120.0, 14.0], [121.0, 14.0], [122.0, 12.0], [123.0, 12.0], [124.0, 12.0], [125.0, 10.0], [126.0, 10.0], [127.0, 9.0], [128.0, 9.0], [129.0, 9.0], [130.0, 8.0], [131.0, 8.0], [132.0, 8.0], [133.0, 7.0], [134.0, 6.0], [135.0, 6.0], [136.0, 5.0], [137.0, 5.0], [138.0, 4.0], [139.0, 4.0], [140.0, 4.0], [141.0, 3.0], [142.0, 3.0], [143.0, 3.0], [144.0, 3.0], [145.0, 2.0], [146.0, 2.0], [147.0, 2.0], [148.0, 2.0], [149.0, 2.0], [150.0, 2.0], [151.0, 2.0], [152.0, 2.0], [153.0, 2.0], [154.0, 1.0], [155.0, 1.0], [156.0, 1.0], [157.0, 1.0], [158.0, 1.0], [159.0, 1.0]]}, \"id\": \"el97394693932624\"});\n",
        "            })\n",
        "         });\n",
        "}\n",
        "</script>"
       ],
       "metadata": {},
       "output_type": "display_data",
       "png": "[encoded data removed]",
       "text": [
        "<matplotlib.figure.Figure at 0x117c7ba50>"
       ]
      }
     ],
     "prompt_number": 11
    },
    {
     "cell_type": "code",
     "collapsed": false,
     "input": [
      "mpld3.disable_notebook()"
     ],
     "language": "python",
     "metadata": {},
     "outputs": [],
     "prompt_number": 12
    },
    {
     "cell_type": "markdown",
     "metadata": {},
     "source": [
      "### Please enjoy roll-over functionality for this plot!\n",
      "\n",
      "Most games are ref'ed by someone from one of a small number of countries, as we would expect - the four premier leagues which defined selection for our data set: england, germany, france and spain.\n",
      "\n",
      "However, it also seems like 160 different nationalities are represented by our referees. This seemed unlikely, are there really refs from almost every country on earth in the four premier leagues in the season 2012-13?\n"
     ]
    },
    {
     "cell_type": "markdown",
     "metadata": {},
     "source": [
      "### And what does the distribution of ref occurance look like?"
     ]
    },
    {
     "cell_type": "code",
     "collapsed": false,
     "input": [
      "numRefs = len(dfd.refNum.value_counts())\n",
      "print \"Total number of referees =\", numRefs\n",
      "print \"Median number of dyads per referee =\", np.median(dfd.refNum.value_counts())\n",
      "\n",
      "fig, axes = plt.subplots(nrows=1, ncols=1, figsize=(12, 4))\n",
      "axes.hist(dfd.refNum.value_counts().tolist(),bins=numRefs)\n",
      "axes.set_xscale('symlog') # symetric log scale \n",
      "axes.set_yscale('symlog') \n",
      "axes.set_title(\"Referee occurance, log scaled\")\n",
      "axes.set_xlabel('log (number of occurances)')\n",
      "axes.set_ylabel('log (frequency)')"
     ],
     "language": "python",
     "metadata": {},
     "outputs": [
      {
       "output_type": "stream",
       "stream": "stdout",
       "text": [
        "Total number of referees = 3147\n",
        "Median number of dyads per referee = 11.0\n"
       ]
      },
      {
       "metadata": {},
       "output_type": "pyout",
       "prompt_number": 13,
       "text": [
        "<matplotlib.text.Text at 0x11787a0d0>"
       ]
      },
      {
       "metadata": {},
       "output_type": "display_data",
       "png": "[encoded data removed]",
       "text": [
        "<matplotlib.figure.Figure at 0x10fda8a50>"
       ]
      }
     ],
     "prompt_number": 13
    },
    {
     "cell_type": "markdown",
     "metadata": {},
     "source": [
      "We see that though most refs are only involved in a small number of dyads, many officiated over thousands. A median of 11 indicates that more than half of the refs officiated less than one game!"
     ]
    },
    {
     "cell_type": "markdown",
     "metadata": {},
     "source": [
      "Something funny is going on - If a ref officiated a full game in one of our selected premier leagues they would be in at *least* 22 dyads (2 teams of 11 players each, more if substitutions occur).\n",
      "\n",
      "Futher analysis (not shown), including a bit of eyeballing, revealled that players' entire career histories are included in the dataset. This means that if a player gets sent off in a Uruguayan league game in 2002, but then transfers to the English premier league by 2012 then this booking ends up in our dataset - as does the referee. This explains the high number of ref nationalities present in the data set\n",
      "\n"
     ]
    },
    {
     "cell_type": "markdown",
     "metadata": {},
     "source": [
      "### We clean the data by excluding interactions by refs who feature in fewer than 22 dyads\n",
      "\n",
      "If you aren't in at least 22 dyads you didn't ref a game in one of our four defining leagues"
     ]
    },
    {
     "cell_type": "code",
     "collapsed": false,
     "input": [
      "goodRefs = allRefs[allRefs>21]\n"
     ],
     "language": "python",
     "metadata": {},
     "outputs": [],
     "prompt_number": 14
    },
    {
     "cell_type": "code",
     "collapsed": false,
     "input": [
      "fig, axes = plt.subplots(nrows=1, ncols=1, figsize=(12, 4))\n",
      "axes.hist(goodRefs.tolist(),numRefs-11)\n",
      "axes.set_xscale('symlog') # symetric log scale \n",
      "plt.xlim([1,10000])\n",
      "axes.set_yscale('symlog') \n",
      "plt.ylim([0,1000])\n",
      "axes.set_title(\"Referee occurance following our cull, log scaled\")\n",
      "axes.set_xlabel('log (number of occurances)')\n",
      "axes.set_ylabel('log (frequency)')"
     ],
     "language": "python",
     "metadata": {},
     "outputs": [
      {
       "metadata": {},
       "output_type": "pyout",
       "prompt_number": 15,
       "text": [
        "<matplotlib.text.Text at 0x117eec250>"
       ]
      },
      {
       "metadata": {},
       "output_type": "display_data",
       "png": "[encoded data removed]",
       "text": [
        "<matplotlib.figure.Figure at 0x117e2dd90>"
       ]
      }
     ],
     "prompt_number": 15
    },
    {
     "cell_type": "code",
     "collapsed": false,
     "input": [
      "print \"Number of refs featuring in at least 22 dyads =\",len(goodRefs)\n",
      "print \"Number of dyads, excluding refs who officiate fewer than 22 games =\", sum(goodRefs)"
     ],
     "language": "python",
     "metadata": {},
     "outputs": [
      {
       "output_type": "stream",
       "stream": "stdout",
       "text": [
        "Number of refs featuring in at least 22 dyads = 1261\n",
        "Number of dyads, excluding refs who officiate fewer than 22 games = 415692\n"
       ]
      }
     ],
     "prompt_number": 16
    },
    {
     "cell_type": "markdown",
     "metadata": {},
     "source": [
      "We lose approx 2/3rds of refs, but keep 97.4% of dyads\n",
      "\n"
     ]
    },
    {
     "cell_type": "code",
     "collapsed": false,
     "input": [
      "#Copying from \n",
      "#http://stackoverflow.com/questions/12065885/how-to-filter-the-dataframe-rows-of-pandas-by-within-in\n",
      "#\n",
      "#This line defines a new dataframe based on our >21 games filter\n",
      "dfd_good=dfd[dfd['refNum'].isin(goodRefs.index.values)]\n",
      "\n",
      "#pandas is like being in a alien spaceship \n",
      "#- you know you potentially control unimaginable power, but don't know what any of the buttongs actually do\n",
      "#\n"
     ],
     "language": "python",
     "metadata": {},
     "outputs": [],
     "prompt_number": 17
    },
    {
     "cell_type": "code",
     "collapsed": false,
     "input": [
      "import mpld3\n",
      "mpld3.enable_notebook()\n",
      "# Histogram of country frequency. \n",
      "fig, ax = plt.subplots(1,1,figsize=(12, 4))\n",
      "x = dfd_good.Alpha_3.value_counts()\n",
      "lines = ax.plot(x,marker='.',ms=20)\n",
      "\n",
      "y = x.index.tolist() \n",
      "\n",
      "tooltips = mpld3.plugins.PointLabelTooltip(lines[0], labels=y)\n",
      "mpld3.plugins.connect(plt.gcf(), tooltips)\n",
      "\n",
      "ax.set_title('Referee nationality by number of games')\n",
      "ax.set_xlabel('Country number (ordered by frequency)')\n",
      "ax.set_ylabel('Frequency of games')\n",
      "ax.set_xlim([-3,160]) # a hack so we can see the first point most clearly"
     ],
     "language": "python",
     "metadata": {},
     "outputs": [
      {
       "metadata": {},
       "output_type": "pyout",
       "prompt_number": 18,
       "text": [
        "(-3, 160)"
       ]
      },
      {
       "html": [
        "\n",
        "\n",
        "<style>\n",
        "\n",
        "</style>\n",
        "\n",
        "<div id=\"fig_el973947311572001503088821\"></div>\n",
        "<script>\n",
        "function mpld3_load_lib(url, callback){\n",
        "  var s = document.createElement('script');\n",
        "  s.src = url;\n",
        "  s.async = true;\n",
        "  s.onreadystatechange = s.onload = callback;\n",
        "  s.onerror = function(){console.warn(\"failed to load library \" + url);};\n",
        "  document.getElementsByTagName(\"head\")[0].appendChild(s);\n",
        "}\n",
        "\n",
        "if(typeof(mpld3) !== \"undefined\" && mpld3._mpld3IsLoaded){\n",
        "   // already loaded: just create the figure\n",
        "   !function(mpld3){\n",
        "       \n",
        "       mpld3.draw_figure(\"fig_el973947311572001503088821\", {\"axes\": [{\"xlim\": [-3.0, 160.0], \"yscale\": \"linear\", \"axesbg\": \"#EAEAF2\", \"texts\": [{\"v_baseline\": \"hanging\", \"h_anchor\": \"middle\", \"color\": \"#262626\", \"text\": \"Country number (ordered by frequency)\", \"coordinates\": \"axes\", \"zorder\": 3, \"alpha\": 1, \"fontsize\": 11.0, \"position\": [0.5, -0.094086021505376358], \"rotation\": -0.0, \"id\": \"el97394732401616\"}, {\"v_baseline\": \"auto\", \"h_anchor\": \"middle\", \"color\": \"#262626\", \"text\": \"Frequency of games\", \"coordinates\": \"axes\", \"zorder\": 3, \"alpha\": 1, \"fontsize\": 11.0, \"position\": [-0.07271365367383513, 0.5], \"rotation\": -90.0, \"id\": \"el97394734531536\"}, {\"v_baseline\": \"auto\", \"h_anchor\": \"middle\", \"color\": \"#262626\", \"text\": \"Referee nationality by number of games\", \"coordinates\": \"axes\", \"zorder\": 3, \"alpha\": 1, \"fontsize\": 12.0, \"position\": [0.5, 1.0224014336917562], \"rotation\": -0.0, \"id\": \"el97394795623568\"}], \"zoomable\": true, \"images\": [], \"xdomain\": [-3.0, 160.0], \"ylim\": [0.0, 120000.0], \"paths\": [], \"sharey\": [], \"sharex\": [], \"axesbgalpha\": null, \"axes\": [{\"scale\": \"linear\", \"tickformat\": null, \"grid\": {\"color\": \"#FFFFFF\", \"alpha\": 1.0, \"dasharray\": \"10,0\", \"gridOn\": true}, \"fontsize\": 10.0, \"position\": \"bottom\", \"nticks\": 10, \"tickvalues\": null}, {\"scale\": \"linear\", \"tickformat\": null, \"grid\": {\"color\": \"#FFFFFF\", \"alpha\": 1.0, \"dasharray\": \"10,0\", \"gridOn\": true}, \"fontsize\": 10.0, \"position\": \"left\", \"nticks\": 7, \"tickvalues\": null}], \"lines\": [{\"color\": \"#4C72B0\", \"yindex\": 1, \"coordinates\": \"data\", \"dasharray\": \"none\", \"zorder\": 2, \"alpha\": 1, \"xindex\": 0, \"linewidth\": 1.75, \"data\": \"data01\", \"id\": \"el97394694118480\"}], \"markers\": [{\"edgecolor\": \"#4C72B0\", \"facecolor\": \"#4C72B0\", \"edgewidth\": 0, \"yindex\": 1, \"coordinates\": \"data\", \"zorder\": 2, \"markerpath\": [[[0.0, 5.0], [1.3260155, 5.0], [2.597899353924267, 4.473168457941209], [3.5355339059327378, 3.5355339059327378], [4.473168457941209, 2.597899353924267], [5.0, 1.3260155], [5.0, 0.0], [5.0, -1.3260155], [4.473168457941209, -2.597899353924267], [3.5355339059327378, -3.5355339059327378], [2.597899353924267, -4.473168457941209], [1.3260155, -5.0], [0.0, -5.0], [-1.3260155, -5.0], [-2.597899353924267, -4.473168457941209], [-3.5355339059327378, -3.5355339059327378], [-4.473168457941209, -2.597899353924267], [-5.0, -1.3260155], [-5.0, 0.0], [-5.0, 1.3260155], [-4.473168457941209, 2.597899353924267], [-3.5355339059327378, 3.5355339059327378], [-2.597899353924267, 4.473168457941209], [-1.3260155, 5.0], [0.0, 5.0]], [\"M\", \"C\", \"C\", \"C\", \"C\", \"C\", \"C\", \"C\", \"C\", \"Z\"]], \"alpha\": 1, \"xindex\": 0, \"data\": \"data01\", \"id\": \"el97394694118480pts\"}], \"id\": \"el97394731719952\", \"ydomain\": [0.0, 120000.0], \"collections\": [], \"xscale\": \"linear\", \"bbox\": [0.125, 0.125, 0.77500000000000002, 0.77500000000000002]}], \"height\": 320.0, \"width\": 960.0, \"plugins\": [{\"type\": \"reset\"}, {\"enabled\": false, \"button\": true, \"type\": \"zoom\"}, {\"enabled\": false, \"button\": true, \"type\": \"boxzoom\"}, {\"voffset\": 10, \"labels\": [\"ENGL\", \"DEU\", \"FRA\", \"ESP\", \"ITA\", \"NLD\", \"PRT\", \"BEL\", \"SCOT\", \"CHE\", \"ARG\", \"NOR\", \"DNK\", \"AUT\", \"SWE\", \"GRC\", \"RUS\", \"TUR\", \"ROU\", \"CZE\", \"MEX\", \"SVN\", \"BRA\", \"HUN\", \"POL\", \"LUX\", \"HRV\", \"SVK\", \"JPN\", \"CHL\", \"USA\", \"IRL\", \"URY\", \"ISR\", \"PRY\", \"SRB\", \"FIN\", \"COL\", \"UKR\", \"ISL\", \"MKD\", \"AUS\", \"PER\", \"BGR\", \"CYP\", \"EST\", \"ZAF\", \"UZB\", \"WALES\", \"DZA\", \"CAN\", \"SLV\", \"GTM\", \"BLR\", \"TUN\", \"SYC\", \"MUS\", \"ECU\", \"LVA\", \"EGY\", \"GMB\", \"PAN\", \"CMR\", \"CRI\", \"BOL\", \"SAU\", \"SEN\", \"QAT  \", \"MAR\", \"LTU\", \"SGP\", \"IRN\", \"Mali\", \"KOR\", \"CIV\", \"JAM\", \"BEN\", \"SUR\", \"MNE\", \"MYS\", \"MLT\", \"ARE\", \"AZE\", \"TTO\", \"NZL\", \"BHR\", \"BIH\", \"HND\", \"GAB\", \"VEN\", \"GEO\", \"ZMB\", \"OMN\", \"UGA\", \"SDN\", \"PRI\", \"AGO\", \"MDG\", \"GIN\", \"ALB\", \"LSO\", \"CHN\", \"LBY\", \"GHA\"], \"hoffset\": 0, \"location\": \"mouse\", \"type\": \"tooltip\", \"id\": \"el97394694118480pts\"}], \"data\": {\"data01\": [[0.0, 103291.0], [1.0, 81042.0], [2.0, 75111.0], [3.0, 72581.0], [4.0, 9791.0], [5.0, 8973.0], [6.0, 5308.0], [7.0, 4884.0], [8.0, 4059.0], [9.0, 3539.0], [10.0, 3120.0], [11.0, 2864.0], [12.0, 2758.0], [13.0, 2738.0], [14.0, 2568.0], [15.0, 2476.0], [16.0, 2313.0], [17.0, 2249.0], [18.0, 1469.0], [19.0, 1409.0], [20.0, 1277.0], [21.0, 1277.0], [22.0, 1272.0], [23.0, 1245.0], [24.0, 1186.0], [25.0, 1110.0], [26.0, 1036.0], [27.0, 986.0], [28.0, 848.0], [29.0, 841.0], [30.0, 789.0], [31.0, 702.0], [32.0, 637.0], [33.0, 613.0], [34.0, 577.0], [35.0, 510.0], [36.0, 468.0], [37.0, 423.0], [38.0, 345.0], [39.0, 333.0], [40.0, 331.0], [41.0, 299.0], [42.0, 277.0], [43.0, 267.0], [44.0, 261.0], [45.0, 236.0], [46.0, 233.0], [47.0, 231.0], [48.0, 228.0], [49.0, 228.0], [50.0, 207.0], [51.0, 202.0], [52.0, 182.0], [53.0, 173.0], [54.0, 171.0], [55.0, 141.0], [56.0, 136.0], [57.0, 129.0], [58.0, 125.0], [59.0, 117.0], [60.0, 115.0], [61.0, 114.0], [62.0, 112.0], [63.0, 107.0], [64.0, 106.0], [65.0, 99.0], [66.0, 93.0], [67.0, 84.0], [68.0, 82.0], [69.0, 76.0], [70.0, 74.0], [71.0, 73.0], [72.0, 73.0], [73.0, 71.0], [74.0, 68.0], [75.0, 65.0], [76.0, 64.0], [77.0, 62.0], [78.0, 58.0], [79.0, 58.0], [80.0, 55.0], [81.0, 53.0], [82.0, 51.0], [83.0, 50.0], [84.0, 49.0], [85.0, 49.0], [86.0, 49.0], [87.0, 47.0], [88.0, 43.0], [89.0, 39.0], [90.0, 36.0], [91.0, 35.0], [92.0, 31.0], [93.0, 26.0], [94.0, 25.0], [95.0, 24.0], [96.0, 24.0], [97.0, 24.0], [98.0, 24.0], [99.0, 23.0], [100.0, 23.0], [101.0, 22.0], [102.0, 22.0], [103.0, 22.0]]}, \"id\": \"el97394731157200\"});\n",
        "   }(mpld3);\n",
        "}else if(typeof define === \"function\" && define.amd){\n",
        "   // require.js is available: use it to load d3/mpld3\n",
        "   require.config({paths: {d3: \"https://mpld3.github.io/js/d3.v3.min\"}});\n",
        "   require([\"d3\"], function(d3){\n",
        "      window.d3 = d3;\n",
        "      mpld3_load_lib(\"https://mpld3.github.io/js/mpld3.v0.3git.js\", function(){\n",
        "         \n",
        "         mpld3.draw_figure(\"fig_el973947311572001503088821\", {\"axes\": [{\"xlim\": [-3.0, 160.0], \"yscale\": \"linear\", \"axesbg\": \"#EAEAF2\", \"texts\": [{\"v_baseline\": \"hanging\", \"h_anchor\": \"middle\", \"color\": \"#262626\", \"text\": \"Country number (ordered by frequency)\", \"coordinates\": \"axes\", \"zorder\": 3, \"alpha\": 1, \"fontsize\": 11.0, \"position\": [0.5, -0.094086021505376358], \"rotation\": -0.0, \"id\": \"el97394732401616\"}, {\"v_baseline\": \"auto\", \"h_anchor\": \"middle\", \"color\": \"#262626\", \"text\": \"Frequency of games\", \"coordinates\": \"axes\", \"zorder\": 3, \"alpha\": 1, \"fontsize\": 11.0, \"position\": [-0.07271365367383513, 0.5], \"rotation\": -90.0, \"id\": \"el97394734531536\"}, {\"v_baseline\": \"auto\", \"h_anchor\": \"middle\", \"color\": \"#262626\", \"text\": \"Referee nationality by number of games\", \"coordinates\": \"axes\", \"zorder\": 3, \"alpha\": 1, \"fontsize\": 12.0, \"position\": [0.5, 1.0224014336917562], \"rotation\": -0.0, \"id\": \"el97394795623568\"}], \"zoomable\": true, \"images\": [], \"xdomain\": [-3.0, 160.0], \"ylim\": [0.0, 120000.0], \"paths\": [], \"sharey\": [], \"sharex\": [], \"axesbgalpha\": null, \"axes\": [{\"scale\": \"linear\", \"tickformat\": null, \"grid\": {\"color\": \"#FFFFFF\", \"alpha\": 1.0, \"dasharray\": \"10,0\", \"gridOn\": true}, \"fontsize\": 10.0, \"position\": \"bottom\", \"nticks\": 10, \"tickvalues\": null}, {\"scale\": \"linear\", \"tickformat\": null, \"grid\": {\"color\": \"#FFFFFF\", \"alpha\": 1.0, \"dasharray\": \"10,0\", \"gridOn\": true}, \"fontsize\": 10.0, \"position\": \"left\", \"nticks\": 7, \"tickvalues\": null}], \"lines\": [{\"color\": \"#4C72B0\", \"yindex\": 1, \"coordinates\": \"data\", \"dasharray\": \"none\", \"zorder\": 2, \"alpha\": 1, \"xindex\": 0, \"linewidth\": 1.75, \"data\": \"data01\", \"id\": \"el97394694118480\"}], \"markers\": [{\"edgecolor\": \"#4C72B0\", \"facecolor\": \"#4C72B0\", \"edgewidth\": 0, \"yindex\": 1, \"coordinates\": \"data\", \"zorder\": 2, \"markerpath\": [[[0.0, 5.0], [1.3260155, 5.0], [2.597899353924267, 4.473168457941209], [3.5355339059327378, 3.5355339059327378], [4.473168457941209, 2.597899353924267], [5.0, 1.3260155], [5.0, 0.0], [5.0, -1.3260155], [4.473168457941209, -2.597899353924267], [3.5355339059327378, -3.5355339059327378], [2.597899353924267, -4.473168457941209], [1.3260155, -5.0], [0.0, -5.0], [-1.3260155, -5.0], [-2.597899353924267, -4.473168457941209], [-3.5355339059327378, -3.5355339059327378], [-4.473168457941209, -2.597899353924267], [-5.0, -1.3260155], [-5.0, 0.0], [-5.0, 1.3260155], [-4.473168457941209, 2.597899353924267], [-3.5355339059327378, 3.5355339059327378], [-2.597899353924267, 4.473168457941209], [-1.3260155, 5.0], [0.0, 5.0]], [\"M\", \"C\", \"C\", \"C\", \"C\", \"C\", \"C\", \"C\", \"C\", \"Z\"]], \"alpha\": 1, \"xindex\": 0, \"data\": \"data01\", \"id\": \"el97394694118480pts\"}], \"id\": \"el97394731719952\", \"ydomain\": [0.0, 120000.0], \"collections\": [], \"xscale\": \"linear\", \"bbox\": [0.125, 0.125, 0.77500000000000002, 0.77500000000000002]}], \"height\": 320.0, \"width\": 960.0, \"plugins\": [{\"type\": \"reset\"}, {\"enabled\": false, \"button\": true, \"type\": \"zoom\"}, {\"enabled\": false, \"button\": true, \"type\": \"boxzoom\"}, {\"voffset\": 10, \"labels\": [\"ENGL\", \"DEU\", \"FRA\", \"ESP\", \"ITA\", \"NLD\", \"PRT\", \"BEL\", \"SCOT\", \"CHE\", \"ARG\", \"NOR\", \"DNK\", \"AUT\", \"SWE\", \"GRC\", \"RUS\", \"TUR\", \"ROU\", \"CZE\", \"MEX\", \"SVN\", \"BRA\", \"HUN\", \"POL\", \"LUX\", \"HRV\", \"SVK\", \"JPN\", \"CHL\", \"USA\", \"IRL\", \"URY\", \"ISR\", \"PRY\", \"SRB\", \"FIN\", \"COL\", \"UKR\", \"ISL\", \"MKD\", \"AUS\", \"PER\", \"BGR\", \"CYP\", \"EST\", \"ZAF\", \"UZB\", \"WALES\", \"DZA\", \"CAN\", \"SLV\", \"GTM\", \"BLR\", \"TUN\", \"SYC\", \"MUS\", \"ECU\", \"LVA\", \"EGY\", \"GMB\", \"PAN\", \"CMR\", \"CRI\", \"BOL\", \"SAU\", \"SEN\", \"QAT  \", \"MAR\", \"LTU\", \"SGP\", \"IRN\", \"Mali\", \"KOR\", \"CIV\", \"JAM\", \"BEN\", \"SUR\", \"MNE\", \"MYS\", \"MLT\", \"ARE\", \"AZE\", \"TTO\", \"NZL\", \"BHR\", \"BIH\", \"HND\", \"GAB\", \"VEN\", \"GEO\", \"ZMB\", \"OMN\", \"UGA\", \"SDN\", \"PRI\", \"AGO\", \"MDG\", \"GIN\", \"ALB\", \"LSO\", \"CHN\", \"LBY\", \"GHA\"], \"hoffset\": 0, \"location\": \"mouse\", \"type\": \"tooltip\", \"id\": \"el97394694118480pts\"}], \"data\": {\"data01\": [[0.0, 103291.0], [1.0, 81042.0], [2.0, 75111.0], [3.0, 72581.0], [4.0, 9791.0], [5.0, 8973.0], [6.0, 5308.0], [7.0, 4884.0], [8.0, 4059.0], [9.0, 3539.0], [10.0, 3120.0], [11.0, 2864.0], [12.0, 2758.0], [13.0, 2738.0], [14.0, 2568.0], [15.0, 2476.0], [16.0, 2313.0], [17.0, 2249.0], [18.0, 1469.0], [19.0, 1409.0], [20.0, 1277.0], [21.0, 1277.0], [22.0, 1272.0], [23.0, 1245.0], [24.0, 1186.0], [25.0, 1110.0], [26.0, 1036.0], [27.0, 986.0], [28.0, 848.0], [29.0, 841.0], [30.0, 789.0], [31.0, 702.0], [32.0, 637.0], [33.0, 613.0], [34.0, 577.0], [35.0, 510.0], [36.0, 468.0], [37.0, 423.0], [38.0, 345.0], [39.0, 333.0], [40.0, 331.0], [41.0, 299.0], [42.0, 277.0], [43.0, 267.0], [44.0, 261.0], [45.0, 236.0], [46.0, 233.0], [47.0, 231.0], [48.0, 228.0], [49.0, 228.0], [50.0, 207.0], [51.0, 202.0], [52.0, 182.0], [53.0, 173.0], [54.0, 171.0], [55.0, 141.0], [56.0, 136.0], [57.0, 129.0], [58.0, 125.0], [59.0, 117.0], [60.0, 115.0], [61.0, 114.0], [62.0, 112.0], [63.0, 107.0], [64.0, 106.0], [65.0, 99.0], [66.0, 93.0], [67.0, 84.0], [68.0, 82.0], [69.0, 76.0], [70.0, 74.0], [71.0, 73.0], [72.0, 73.0], [73.0, 71.0], [74.0, 68.0], [75.0, 65.0], [76.0, 64.0], [77.0, 62.0], [78.0, 58.0], [79.0, 58.0], [80.0, 55.0], [81.0, 53.0], [82.0, 51.0], [83.0, 50.0], [84.0, 49.0], [85.0, 49.0], [86.0, 49.0], [87.0, 47.0], [88.0, 43.0], [89.0, 39.0], [90.0, 36.0], [91.0, 35.0], [92.0, 31.0], [93.0, 26.0], [94.0, 25.0], [95.0, 24.0], [96.0, 24.0], [97.0, 24.0], [98.0, 24.0], [99.0, 23.0], [100.0, 23.0], [101.0, 22.0], [102.0, 22.0], [103.0, 22.0]]}, \"id\": \"el97394731157200\"});\n",
        "      });\n",
        "    });\n",
        "}else{\n",
        "    // require.js not available: dynamically load d3 & mpld3\n",
        "    mpld3_load_lib(\"https://mpld3.github.io/js/d3.v3.min.js\", function(){\n",
        "         mpld3_load_lib(\"https://mpld3.github.io/js/mpld3.v0.3git.js\", function(){\n",
        "                 \n",
        "                 mpld3.draw_figure(\"fig_el973947311572001503088821\", {\"axes\": [{\"xlim\": [-3.0, 160.0], \"yscale\": \"linear\", \"axesbg\": \"#EAEAF2\", \"texts\": [{\"v_baseline\": \"hanging\", \"h_anchor\": \"middle\", \"color\": \"#262626\", \"text\": \"Country number (ordered by frequency)\", \"coordinates\": \"axes\", \"zorder\": 3, \"alpha\": 1, \"fontsize\": 11.0, \"position\": [0.5, -0.094086021505376358], \"rotation\": -0.0, \"id\": \"el97394732401616\"}, {\"v_baseline\": \"auto\", \"h_anchor\": \"middle\", \"color\": \"#262626\", \"text\": \"Frequency of games\", \"coordinates\": \"axes\", \"zorder\": 3, \"alpha\": 1, \"fontsize\": 11.0, \"position\": [-0.07271365367383513, 0.5], \"rotation\": -90.0, \"id\": \"el97394734531536\"}, {\"v_baseline\": \"auto\", \"h_anchor\": \"middle\", \"color\": \"#262626\", \"text\": \"Referee nationality by number of games\", \"coordinates\": \"axes\", \"zorder\": 3, \"alpha\": 1, \"fontsize\": 12.0, \"position\": [0.5, 1.0224014336917562], \"rotation\": -0.0, \"id\": \"el97394795623568\"}], \"zoomable\": true, \"images\": [], \"xdomain\": [-3.0, 160.0], \"ylim\": [0.0, 120000.0], \"paths\": [], \"sharey\": [], \"sharex\": [], \"axesbgalpha\": null, \"axes\": [{\"scale\": \"linear\", \"tickformat\": null, \"grid\": {\"color\": \"#FFFFFF\", \"alpha\": 1.0, \"dasharray\": \"10,0\", \"gridOn\": true}, \"fontsize\": 10.0, \"position\": \"bottom\", \"nticks\": 10, \"tickvalues\": null}, {\"scale\": \"linear\", \"tickformat\": null, \"grid\": {\"color\": \"#FFFFFF\", \"alpha\": 1.0, \"dasharray\": \"10,0\", \"gridOn\": true}, \"fontsize\": 10.0, \"position\": \"left\", \"nticks\": 7, \"tickvalues\": null}], \"lines\": [{\"color\": \"#4C72B0\", \"yindex\": 1, \"coordinates\": \"data\", \"dasharray\": \"none\", \"zorder\": 2, \"alpha\": 1, \"xindex\": 0, \"linewidth\": 1.75, \"data\": \"data01\", \"id\": \"el97394694118480\"}], \"markers\": [{\"edgecolor\": \"#4C72B0\", \"facecolor\": \"#4C72B0\", \"edgewidth\": 0, \"yindex\": 1, \"coordinates\": \"data\", \"zorder\": 2, \"markerpath\": [[[0.0, 5.0], [1.3260155, 5.0], [2.597899353924267, 4.473168457941209], [3.5355339059327378, 3.5355339059327378], [4.473168457941209, 2.597899353924267], [5.0, 1.3260155], [5.0, 0.0], [5.0, -1.3260155], [4.473168457941209, -2.597899353924267], [3.5355339059327378, -3.5355339059327378], [2.597899353924267, -4.473168457941209], [1.3260155, -5.0], [0.0, -5.0], [-1.3260155, -5.0], [-2.597899353924267, -4.473168457941209], [-3.5355339059327378, -3.5355339059327378], [-4.473168457941209, -2.597899353924267], [-5.0, -1.3260155], [-5.0, 0.0], [-5.0, 1.3260155], [-4.473168457941209, 2.597899353924267], [-3.5355339059327378, 3.5355339059327378], [-2.597899353924267, 4.473168457941209], [-1.3260155, 5.0], [0.0, 5.0]], [\"M\", \"C\", \"C\", \"C\", \"C\", \"C\", \"C\", \"C\", \"C\", \"Z\"]], \"alpha\": 1, \"xindex\": 0, \"data\": \"data01\", \"id\": \"el97394694118480pts\"}], \"id\": \"el97394731719952\", \"ydomain\": [0.0, 120000.0], \"collections\": [], \"xscale\": \"linear\", \"bbox\": [0.125, 0.125, 0.77500000000000002, 0.77500000000000002]}], \"height\": 320.0, \"width\": 960.0, \"plugins\": [{\"type\": \"reset\"}, {\"enabled\": false, \"button\": true, \"type\": \"zoom\"}, {\"enabled\": false, \"button\": true, \"type\": \"boxzoom\"}, {\"voffset\": 10, \"labels\": [\"ENGL\", \"DEU\", \"FRA\", \"ESP\", \"ITA\", \"NLD\", \"PRT\", \"BEL\", \"SCOT\", \"CHE\", \"ARG\", \"NOR\", \"DNK\", \"AUT\", \"SWE\", \"GRC\", \"RUS\", \"TUR\", \"ROU\", \"CZE\", \"MEX\", \"SVN\", \"BRA\", \"HUN\", \"POL\", \"LUX\", \"HRV\", \"SVK\", \"JPN\", \"CHL\", \"USA\", \"IRL\", \"URY\", \"ISR\", \"PRY\", \"SRB\", \"FIN\", \"COL\", \"UKR\", \"ISL\", \"MKD\", \"AUS\", \"PER\", \"BGR\", \"CYP\", \"EST\", \"ZAF\", \"UZB\", \"WALES\", \"DZA\", \"CAN\", \"SLV\", \"GTM\", \"BLR\", \"TUN\", \"SYC\", \"MUS\", \"ECU\", \"LVA\", \"EGY\", \"GMB\", \"PAN\", \"CMR\", \"CRI\", \"BOL\", \"SAU\", \"SEN\", \"QAT  \", \"MAR\", \"LTU\", \"SGP\", \"IRN\", \"Mali\", \"KOR\", \"CIV\", \"JAM\", \"BEN\", \"SUR\", \"MNE\", \"MYS\", \"MLT\", \"ARE\", \"AZE\", \"TTO\", \"NZL\", \"BHR\", \"BIH\", \"HND\", \"GAB\", \"VEN\", \"GEO\", \"ZMB\", \"OMN\", \"UGA\", \"SDN\", \"PRI\", \"AGO\", \"MDG\", \"GIN\", \"ALB\", \"LSO\", \"CHN\", \"LBY\", \"GHA\"], \"hoffset\": 0, \"location\": \"mouse\", \"type\": \"tooltip\", \"id\": \"el97394694118480pts\"}], \"data\": {\"data01\": [[0.0, 103291.0], [1.0, 81042.0], [2.0, 75111.0], [3.0, 72581.0], [4.0, 9791.0], [5.0, 8973.0], [6.0, 5308.0], [7.0, 4884.0], [8.0, 4059.0], [9.0, 3539.0], [10.0, 3120.0], [11.0, 2864.0], [12.0, 2758.0], [13.0, 2738.0], [14.0, 2568.0], [15.0, 2476.0], [16.0, 2313.0], [17.0, 2249.0], [18.0, 1469.0], [19.0, 1409.0], [20.0, 1277.0], [21.0, 1277.0], [22.0, 1272.0], [23.0, 1245.0], [24.0, 1186.0], [25.0, 1110.0], [26.0, 1036.0], [27.0, 986.0], [28.0, 848.0], [29.0, 841.0], [30.0, 789.0], [31.0, 702.0], [32.0, 637.0], [33.0, 613.0], [34.0, 577.0], [35.0, 510.0], [36.0, 468.0], [37.0, 423.0], [38.0, 345.0], [39.0, 333.0], [40.0, 331.0], [41.0, 299.0], [42.0, 277.0], [43.0, 267.0], [44.0, 261.0], [45.0, 236.0], [46.0, 233.0], [47.0, 231.0], [48.0, 228.0], [49.0, 228.0], [50.0, 207.0], [51.0, 202.0], [52.0, 182.0], [53.0, 173.0], [54.0, 171.0], [55.0, 141.0], [56.0, 136.0], [57.0, 129.0], [58.0, 125.0], [59.0, 117.0], [60.0, 115.0], [61.0, 114.0], [62.0, 112.0], [63.0, 107.0], [64.0, 106.0], [65.0, 99.0], [66.0, 93.0], [67.0, 84.0], [68.0, 82.0], [69.0, 76.0], [70.0, 74.0], [71.0, 73.0], [72.0, 73.0], [73.0, 71.0], [74.0, 68.0], [75.0, 65.0], [76.0, 64.0], [77.0, 62.0], [78.0, 58.0], [79.0, 58.0], [80.0, 55.0], [81.0, 53.0], [82.0, 51.0], [83.0, 50.0], [84.0, 49.0], [85.0, 49.0], [86.0, 49.0], [87.0, 47.0], [88.0, 43.0], [89.0, 39.0], [90.0, 36.0], [91.0, 35.0], [92.0, 31.0], [93.0, 26.0], [94.0, 25.0], [95.0, 24.0], [96.0, 24.0], [97.0, 24.0], [98.0, 24.0], [99.0, 23.0], [100.0, 23.0], [101.0, 22.0], [102.0, 22.0], [103.0, 22.0]]}, \"id\": \"el97394731157200\"});\n",
        "            })\n",
        "         });\n",
        "}\n",
        "</script>"
       ],
       "metadata": {},
       "output_type": "display_data",
       "png": "[encoded data removed]",
       "text": [
        "<matplotlib.figure.Figure at 0x119ffbad0>"
       ]
      }
     ],
     "prompt_number": 18
    },
    {
     "cell_type": "code",
     "collapsed": false,
     "input": [
      "mpld3.disable_notebook()\n"
     ],
     "language": "python",
     "metadata": {},
     "outputs": [],
     "prompt_number": 19
    },
    {
     "cell_type": "markdown",
     "metadata": {},
     "source": [
      "Still 100+ nationalities represented"
     ]
    },
    {
     "cell_type": "markdown",
     "metadata": {},
     "source": [
      "# 4 Skintone ratings could be better\n",
      "\n",
      "We noted that ratings of skintone could be more reliable. The ratings are fairly different at the light end of the spectrum. The two raters disagree on 28742 or 19% of the time, and looking at the histograms of their responses most of these are between the first two categories. These first two categories account for ~ 70% of both rater's classifications, so biases/inconsistencies/uncertainty in this part of the dataset could have a large effect on the rest of the analysis. There could be many reasons for this, but one obvious way of dealing with it would be to use N>2 raters. "
     ]
    },
    {
     "cell_type": "code",
     "collapsed": false,
     "input": [
      "# Plot of skin tone rating distributions, showing skewed nature of the data w/ histograms \n",
      "# and degree of disagreement between raters with a scatterplot\n",
      "rated = ((dfd['rater1']+dfd['rater2'])/2).dropna()\n",
      "\n",
      "fig, ax = plt.subplots(1,4,figsize=(12, 4))\n",
      "c = sns.color_palette()\n",
      "ax[0].hist(rated,bins = 5, range = (0,1),color = c[0])\n",
      "ax[0].set_title(\"Mean rating\")\n",
      "\n",
      "ax[1].hist(dfd['rater1'].dropna().tolist(),bins = 5, range = (0,1), color = c[1])\n",
      "ax[1].set_title('Rater 1')\n",
      "\n",
      "ax[2].hist(dfd['rater2'].dropna().tolist(),bins = 5, range = (0,1),color = c[2])\n",
      "ax[2].set_title('Rater 2')\n",
      "\n",
      "ax[3].hist((dfd['rater1'] - dfd['rater2']).dropna(), bins = 5,range = (-0.5,0.5),color = c[3])\n",
      "ax[3].set_title('Difference')\n",
      "\n",
      "\n",
      "fig.tight_layout()\n",
      "\n",
      "print 'Mean skintone across the population =', np.mean(rated)\n",
      "\n"
     ],
     "language": "python",
     "metadata": {},
     "outputs": [
      {
       "output_type": "stream",
       "stream": "stdout",
       "text": [
        "Mean skintone across the population = 0.279605271975\n"
       ]
      },
      {
       "metadata": {},
       "output_type": "display_data",
       "png": "[encoded data removed]",
       "text": [
        "<matplotlib.figure.Figure at 0x11a58ed10>"
       ]
      }
     ],
     "prompt_number": 20
    },
    {
     "cell_type": "markdown",
     "metadata": {},
     "source": [
      "### Scatter plot of skintone ratings. Jitter added for visualisation"
     ]
    },
    {
     "cell_type": "code",
     "collapsed": false,
     "input": [
      "c = sns.color_palette()\n",
      "jitter_x = np.random.normal(0, 0.04, size=len(dfd.rater1))\n",
      "jitter_y = np.random.normal(0, 0.04, size=len(dfd.rater2))\n",
      "sns.jointplot(dfd.rater1 + jitter_x, dfd.rater2 + jitter_y, kind='kde')"
     ],
     "language": "python",
     "metadata": {},
     "outputs": [
      {
       "metadata": {},
       "output_type": "pyout",
       "prompt_number": 21,
       "text": [
        "<seaborn.axisgrid.JointGrid at 0x11a0f37d0>"
       ]
      },
      {
       "metadata": {},
       "output_type": "display_data",
       "png": "[encoded data removed]",
       "text": [
        "<matplotlib.figure.Figure at 0x11ddf0290>"
       ]
      }
     ],
     "prompt_number": 21
    },
    {
     "cell_type": "markdown",
     "metadata": {},
     "source": [
      "\n",
      "\n",
      "# 5 Let's look at the implicit and explicit racism scores, and their sample size distributions"
     ]
    },
    {
     "cell_type": "markdown",
     "metadata": {},
     "source": [
      "Most of the refs come from 4 countries (where the 4 represented leagues are). It's a shame there is no data from Italy but never mind. It's hard to know how reliable the IAT and Exp scores are with respect to the other countries, esp if there is some variation between ref biases within a country. The IAT and Exp scores might not have as much variation as within country variation..\n",
      "\n",
      "There doesn't seem to be much 'signal' here. Also the sample sizes, though large, are then undermined by the small sample sizes for refs in some countries (data not shown, but see above)"
     ]
    },
    {
     "cell_type": "code",
     "collapsed": false,
     "input": [
      "# Linked subplots showing these distributions, or a scatter plot with variable dot sizes showing how much overlap there is.\n",
      "fig, ax = plt.subplots(2,2,figsize=(12, 8))\n",
      "ax[0,0].hist(dfd.meanIAT.dropna().unique())\n",
      "ax[0,0].set_title(\"Mean IAT - all\")\n",
      "ax[0,1].hist(dfd['meanExp'].dropna().unique())\n",
      "ax[0,1].set_title(\"Mean Exp - all\")\n",
      "\n",
      "ax[1,0].hist(dfd_good.meanIAT.dropna().unique())\n",
      "ax[1,0].set_title(\"Mean IAT - culled\")\n",
      "ax[1,1].hist(dfd_good['meanExp'].dropna().unique())\n",
      "ax[1,1].set_title(\"Mean Exp - culled\")"
     ],
     "language": "python",
     "metadata": {},
     "outputs": [
      {
       "metadata": {},
       "output_type": "pyout",
       "prompt_number": 26,
       "text": [
        "<matplotlib.text.Text at 0x11768a610>"
       ]
      },
      {
       "metadata": {},
       "output_type": "display_data",
       "png": "[encoded data removed]",
       "text": [
        "<matplotlib.figure.Figure at 0x117ca4310>"
       ]
      }
     ],
     "prompt_number": 26
    },
    {
     "cell_type": "code",
     "collapsed": false,
     "input": [
      "sns.jointplot(dfd_good['meanIAT'].dropna().unique(),dfd_good['meanExp'].dropna().unique())\n",
      "       "
     ],
     "language": "python",
     "metadata": {},
     "outputs": [
      {
       "metadata": {},
       "output_type": "pyout",
       "prompt_number": 23,
       "text": [
        "<seaborn.axisgrid.JointGrid at 0x11e727c50>"
       ]
      },
      {
       "metadata": {},
       "output_type": "display_data",
       "png": "[encoded data removed]",
       "text": [
        "<matplotlib.figure.Figure at 0x11e945f90>"
       ]
      }
     ],
     "prompt_number": 23
    },
    {
     "cell_type": "markdown",
     "metadata": {},
     "source": [
      "implicit (IAT) and explicit (EXP) attitude correlate highly"
     ]
    },
    {
     "cell_type": "code",
     "collapsed": false,
     "input": [
      "x = dfd_good.nIAT.dropna().unique()\n",
      "plt.plot(np.sort(x),'.')\n",
      "\n",
      "\n",
      "plt.xlabel('Country number (ordered by sample size)')\n",
      "plt.ylabel('Sample size for IAT score')\n",
      "\n",
      "plt.ylim([0,3000])\n",
      "plt.title('Most IAT scores are based on samples of <1000')"
     ],
     "language": "python",
     "metadata": {},
     "outputs": [
      {
       "metadata": {},
       "output_type": "pyout",
       "prompt_number": 29,
       "text": [
        "<matplotlib.text.Text at 0x11de0d650>"
       ]
      },
      {
       "metadata": {},
       "output_type": "display_data",
       "png": "[encoded data removed]",
       "text": [
        "<matplotlib.figure.Figure at 0x117c8d250>"
       ]
      }
     ],
     "prompt_number": 29
    },
    {
     "cell_type": "markdown",
     "metadata": {},
     "source": [
      "So perhaps not too surprising that the country attitude scores (both explicit and implicit) don't predict carding by individual referrees"
     ]
    },
    {
     "cell_type": "markdown",
     "metadata": {},
     "source": [
      "# 6 Concluding thoughts"
     ]
    },
    {
     "cell_type": "markdown",
     "metadata": {},
     "source": [
      "At least half of the analysis effort was the initial data exploration and visualisation. Normally this is not shown directly in the reporting of a scientific project. We felt, particularly for this project, that it was worth bringing to light some of this work.\n",
      "\n",
      "The ipython notebook allows code, commentary and results to be combined (and, if you run it in interactive mode, to be actively developed between several people)\n",
      "\n",
      "There is a trend in behavioural science to very large datasets. When these are incidentally collected (e.g. data provided by companies or beaurocracies), or when they are collected via highly complex/opaque techniques (e.g. many kinds of imaging data) we, as scientists, are often ignorant of the exact form the data take, and the attendant peculiarities and nuances. This means that every analysis project is more and more a visualisation project as well.\n",
      "\n",
      "\n",
      "Mat Evans [@mathewe](twitter.com/mathewe)\n",
      "\n",
      "Tom Stafford [@tomstafford](http://twitter.com/tomstafford)\n",
      "\n",
      "Nov 2014"
     ]
    },
    {
     "cell_type": "code",
     "collapsed": false,
     "input": [],
     "language": "python",
     "metadata": {},
     "outputs": []
    }
   ],
   "metadata": {}
  }
 ]
}